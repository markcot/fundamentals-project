{
 "cells": [
  {
   "cell_type": "markdown",
   "metadata": {},
   "source": [
    "# <font color='blue'>Fundamentals of Data Analysis - Project</font> \n",
    "- **Course** Higher Diploma in Data Analytics, GMIT, Ireland\n",
    "- **Lecturer** Ian McLoughlin\n",
    "- **Author** Mark Cotter\n",
    "- **Email** g00376335@gmit.ie\n",
    "- **Dates** September 2019 to November 2019\n",
    "\n",
    "This document is my analysis of the well-known 'tips' dataset. The program run in this jupyter notebook and uses the Python<font color='blue'>[1]</font> programming language to analyse the dataset. The tips dataset come preloaded into the seaborn Python module.\n",
    "\n",
    "\n",
    "### <font color='blue'>Project setup</font>"
   ]
  },
  {
   "cell_type": "code",
   "execution_count": 1,
   "metadata": {},
   "outputs": [],
   "source": [
    "# This code imports python libraries and the 'tips' dataset.\n",
    "\n",
    "# import numpy for use of arrays\n",
    "import numpy as np\n",
    "# import pandas to use DataFrames for the dataset\n",
    "import pandas as pd\n",
    "# import seaborn for ploting and loading tips dataset\n",
    "import seaborn as sns\n",
    "#The python seaborn module already includes the 'tips' dataset\n",
    "#Code adapted from https://seaborn.pydata.org/introduction.html?highlight=tips%20dataset\n",
    "tips = sns.load_dataset(\"tips\")"
   ]
  },
  {
   "cell_type": "markdown",
   "metadata": {},
   "source": [
    "### <font color='blue'>Dataset description</font>\n",
    "\n",
    "#### <font color='blue'>Initial dataset review</font>\n",
    "A basis summary of the dataset content can be viewed by looking at the first few and last few lines in the dataset."
   ]
  },
  {
   "cell_type": "code",
   "execution_count": 2,
   "metadata": {},
   "outputs": [
    {
     "name": "stdout",
     "output_type": "stream",
     "text": [
      "\n",
      "\n",
      "First 5 lines of the 'tips' dataset\n"
     ]
    },
    {
     "data": {
      "text/html": [
       "<div>\n",
       "<style scoped>\n",
       "    .dataframe tbody tr th:only-of-type {\n",
       "        vertical-align: middle;\n",
       "    }\n",
       "\n",
       "    .dataframe tbody tr th {\n",
       "        vertical-align: top;\n",
       "    }\n",
       "\n",
       "    .dataframe thead th {\n",
       "        text-align: right;\n",
       "    }\n",
       "</style>\n",
       "<table border=\"1\" class=\"dataframe\">\n",
       "  <thead>\n",
       "    <tr style=\"text-align: right;\">\n",
       "      <th></th>\n",
       "      <th>total_bill</th>\n",
       "      <th>tip</th>\n",
       "      <th>sex</th>\n",
       "      <th>smoker</th>\n",
       "      <th>day</th>\n",
       "      <th>time</th>\n",
       "      <th>size</th>\n",
       "    </tr>\n",
       "  </thead>\n",
       "  <tbody>\n",
       "    <tr>\n",
       "      <th>0</th>\n",
       "      <td>16.99</td>\n",
       "      <td>1.01</td>\n",
       "      <td>Female</td>\n",
       "      <td>No</td>\n",
       "      <td>Sun</td>\n",
       "      <td>Dinner</td>\n",
       "      <td>2</td>\n",
       "    </tr>\n",
       "    <tr>\n",
       "      <th>1</th>\n",
       "      <td>10.34</td>\n",
       "      <td>1.66</td>\n",
       "      <td>Male</td>\n",
       "      <td>No</td>\n",
       "      <td>Sun</td>\n",
       "      <td>Dinner</td>\n",
       "      <td>3</td>\n",
       "    </tr>\n",
       "    <tr>\n",
       "      <th>2</th>\n",
       "      <td>21.01</td>\n",
       "      <td>3.50</td>\n",
       "      <td>Male</td>\n",
       "      <td>No</td>\n",
       "      <td>Sun</td>\n",
       "      <td>Dinner</td>\n",
       "      <td>3</td>\n",
       "    </tr>\n",
       "    <tr>\n",
       "      <th>3</th>\n",
       "      <td>23.68</td>\n",
       "      <td>3.31</td>\n",
       "      <td>Male</td>\n",
       "      <td>No</td>\n",
       "      <td>Sun</td>\n",
       "      <td>Dinner</td>\n",
       "      <td>2</td>\n",
       "    </tr>\n",
       "    <tr>\n",
       "      <th>4</th>\n",
       "      <td>24.59</td>\n",
       "      <td>3.61</td>\n",
       "      <td>Female</td>\n",
       "      <td>No</td>\n",
       "      <td>Sun</td>\n",
       "      <td>Dinner</td>\n",
       "      <td>4</td>\n",
       "    </tr>\n",
       "  </tbody>\n",
       "</table>\n",
       "</div>"
      ],
      "text/plain": [
       "   total_bill   tip     sex smoker  day    time  size\n",
       "0       16.99  1.01  Female     No  Sun  Dinner     2\n",
       "1       10.34  1.66    Male     No  Sun  Dinner     3\n",
       "2       21.01  3.50    Male     No  Sun  Dinner     3\n",
       "3       23.68  3.31    Male     No  Sun  Dinner     2\n",
       "4       24.59  3.61  Female     No  Sun  Dinner     4"
      ]
     },
     "execution_count": 2,
     "metadata": {},
     "output_type": "execute_result"
    }
   ],
   "source": [
    "# Print heading\n",
    "print(\"\\n\\nFirst 5 lines of the 'tips' dataset\")\n",
    "# Print first 5 lines of the dataset\n",
    "tips.head()"
   ]
  },
  {
   "cell_type": "code",
   "execution_count": 3,
   "metadata": {},
   "outputs": [
    {
     "name": "stdout",
     "output_type": "stream",
     "text": [
      "\n",
      "\n",
      "Last 5 lines of the 'tips' dataset\n"
     ]
    },
    {
     "data": {
      "text/html": [
       "<div>\n",
       "<style scoped>\n",
       "    .dataframe tbody tr th:only-of-type {\n",
       "        vertical-align: middle;\n",
       "    }\n",
       "\n",
       "    .dataframe tbody tr th {\n",
       "        vertical-align: top;\n",
       "    }\n",
       "\n",
       "    .dataframe thead th {\n",
       "        text-align: right;\n",
       "    }\n",
       "</style>\n",
       "<table border=\"1\" class=\"dataframe\">\n",
       "  <thead>\n",
       "    <tr style=\"text-align: right;\">\n",
       "      <th></th>\n",
       "      <th>total_bill</th>\n",
       "      <th>tip</th>\n",
       "      <th>sex</th>\n",
       "      <th>smoker</th>\n",
       "      <th>day</th>\n",
       "      <th>time</th>\n",
       "      <th>size</th>\n",
       "    </tr>\n",
       "  </thead>\n",
       "  <tbody>\n",
       "    <tr>\n",
       "      <th>239</th>\n",
       "      <td>29.03</td>\n",
       "      <td>5.92</td>\n",
       "      <td>Male</td>\n",
       "      <td>No</td>\n",
       "      <td>Sat</td>\n",
       "      <td>Dinner</td>\n",
       "      <td>3</td>\n",
       "    </tr>\n",
       "    <tr>\n",
       "      <th>240</th>\n",
       "      <td>27.18</td>\n",
       "      <td>2.00</td>\n",
       "      <td>Female</td>\n",
       "      <td>Yes</td>\n",
       "      <td>Sat</td>\n",
       "      <td>Dinner</td>\n",
       "      <td>2</td>\n",
       "    </tr>\n",
       "    <tr>\n",
       "      <th>241</th>\n",
       "      <td>22.67</td>\n",
       "      <td>2.00</td>\n",
       "      <td>Male</td>\n",
       "      <td>Yes</td>\n",
       "      <td>Sat</td>\n",
       "      <td>Dinner</td>\n",
       "      <td>2</td>\n",
       "    </tr>\n",
       "    <tr>\n",
       "      <th>242</th>\n",
       "      <td>17.82</td>\n",
       "      <td>1.75</td>\n",
       "      <td>Male</td>\n",
       "      <td>No</td>\n",
       "      <td>Sat</td>\n",
       "      <td>Dinner</td>\n",
       "      <td>2</td>\n",
       "    </tr>\n",
       "    <tr>\n",
       "      <th>243</th>\n",
       "      <td>18.78</td>\n",
       "      <td>3.00</td>\n",
       "      <td>Female</td>\n",
       "      <td>No</td>\n",
       "      <td>Thur</td>\n",
       "      <td>Dinner</td>\n",
       "      <td>2</td>\n",
       "    </tr>\n",
       "  </tbody>\n",
       "</table>\n",
       "</div>"
      ],
      "text/plain": [
       "     total_bill   tip     sex smoker   day    time  size\n",
       "239       29.03  5.92    Male     No   Sat  Dinner     3\n",
       "240       27.18  2.00  Female    Yes   Sat  Dinner     2\n",
       "241       22.67  2.00    Male    Yes   Sat  Dinner     2\n",
       "242       17.82  1.75    Male     No   Sat  Dinner     2\n",
       "243       18.78  3.00  Female     No  Thur  Dinner     2"
      ]
     },
     "execution_count": 3,
     "metadata": {},
     "output_type": "execute_result"
    }
   ],
   "source": [
    "# Print heading\n",
    "print(\"\\n\\nLast 5 lines of the 'tips' dataset\")\n",
    "# Print last 5 lines of the dataset\n",
    "tips.tail()"
   ]
  },
  {
   "cell_type": "markdown",
   "metadata": {},
   "source": [
    "The 'tips' dataset includes 244 observations during which 7 variables were recorded. Based on the names of the variables, it appears that the dataset relates to information recorded at a restaurant over a number of days.\n",
    "\n",
    "Research shows that there are varying opinions on what the variable 'sex' represents. A number of websites describe the sex variable  as the 'gender of the payer of the bill' and that the observations where taken by one waiter/waitress<font color='blue'>[2]</font>.\n",
    "Another source describes the sex variable as 'gender of server'.\n",
    "The most popular opinion is that the observations are recorded by one waiter/waitress and the variable 'sex' relates to the 'gender of the payer of the bill', which in my view seems reasonable.\n",
    "\n",
    "There is also varying opinions as to weather the amount of variable 'total_bill' includes or excludes the variable 'tip' amount<font color='blue'>[3]</font>. Some website reviews of the dataset refer to the variable 'total_bill' as 'bill'. Insofar as the one quarter of the sum of 'total_bill' and 'tip' amounts add to a whole number compared to only 2% of total_bill(refer to analysis below), it appears that the total_bill refers to menu price of the meals for every person at the table excluding tip.\n",
    "\n",
    "For the purposes of this analysis, the variables observed in the dataset are assumed to represent the following:"
   ]
  },
  {
   "cell_type": "code",
   "execution_count": 4,
   "metadata": {},
   "outputs": [
    {
     "data": {
      "text/html": [
       "<!--# Justify table to left. Code verbatim from https://stackoverflow.com/a/46022752-->\n",
       "<style> table {float:left} </style>\n"
      ],
      "text/plain": [
       "<IPython.core.display.HTML object>"
      ]
     },
     "metadata": {},
     "output_type": "display_data"
    }
   ],
   "source": [
    "%%html\n",
    "<!--# Justify table to left. Code verbatim from https://stackoverflow.com/a/46022752-->\n",
    "<style> table {float:left} </style>"
   ]
  },
  {
   "cell_type": "markdown",
   "metadata": {},
   "source": [
    "**Variable** | **Description** \n",
    "-: | :-\n",
    "**total_bill** | The total cost of the bill for meals at a table excluding tip\n",
    "**tip** | The tip received by the table waiter/waitress\n",
    "**sex** | The gender of the table bill payer\n",
    "**smoker** | Weather or not the bill payer was a smoker \n",
    "**day** | Day of the week \n",
    "**time** | Meal time \n",
    "**size** | The party size that was served"
   ]
  },
  {
   "cell_type": "markdown",
   "metadata": {},
   "source": [
    "Note that insofar as the word 'size' is a python keyword that returns the number of elements in a pandas dataframe<font color='blue'>[4]</font>, I have opted to change this variable name to 'party_size' to simplify my assessment of the dataset."
   ]
  },
  {
   "cell_type": "code",
   "execution_count": 5,
   "metadata": {},
   "outputs": [],
   "source": [
    "# Change Dataframe column header label 'size' to 'party_size'\n",
    "# Code adapted from https://stackoverflow.com/questions/11346283/renaming-columns-in-pandas\n",
    "tips.rename(columns={'size': 'party_size'}, inplace=True)"
   ]
  },
  {
   "cell_type": "markdown",
   "metadata": {},
   "source": [
    "#### <font color='blue'>Basic dataset statistics</font>"
   ]
  },
  {
   "cell_type": "code",
   "execution_count": 6,
   "metadata": {},
   "outputs": [
    {
     "name": "stdout",
     "output_type": "stream",
     "text": [
      "Basic 'tips' dataset statistics\n"
     ]
    },
    {
     "data": {
      "text/html": [
       "<div>\n",
       "<style scoped>\n",
       "    .dataframe tbody tr th:only-of-type {\n",
       "        vertical-align: middle;\n",
       "    }\n",
       "\n",
       "    .dataframe tbody tr th {\n",
       "        vertical-align: top;\n",
       "    }\n",
       "\n",
       "    .dataframe thead th {\n",
       "        text-align: right;\n",
       "    }\n",
       "</style>\n",
       "<table border=\"1\" class=\"dataframe\">\n",
       "  <thead>\n",
       "    <tr style=\"text-align: right;\">\n",
       "      <th></th>\n",
       "      <th>total_bill</th>\n",
       "      <th>tip</th>\n",
       "      <th>party_size</th>\n",
       "    </tr>\n",
       "  </thead>\n",
       "  <tbody>\n",
       "    <tr>\n",
       "      <th>count</th>\n",
       "      <td>244.000000</td>\n",
       "      <td>244.000000</td>\n",
       "      <td>244.000000</td>\n",
       "    </tr>\n",
       "    <tr>\n",
       "      <th>mean</th>\n",
       "      <td>19.785943</td>\n",
       "      <td>2.998279</td>\n",
       "      <td>2.569672</td>\n",
       "    </tr>\n",
       "    <tr>\n",
       "      <th>std</th>\n",
       "      <td>8.902412</td>\n",
       "      <td>1.383638</td>\n",
       "      <td>0.951100</td>\n",
       "    </tr>\n",
       "    <tr>\n",
       "      <th>min</th>\n",
       "      <td>3.070000</td>\n",
       "      <td>1.000000</td>\n",
       "      <td>1.000000</td>\n",
       "    </tr>\n",
       "    <tr>\n",
       "      <th>25%</th>\n",
       "      <td>13.347500</td>\n",
       "      <td>2.000000</td>\n",
       "      <td>2.000000</td>\n",
       "    </tr>\n",
       "    <tr>\n",
       "      <th>50%</th>\n",
       "      <td>17.795000</td>\n",
       "      <td>2.900000</td>\n",
       "      <td>2.000000</td>\n",
       "    </tr>\n",
       "    <tr>\n",
       "      <th>75%</th>\n",
       "      <td>24.127500</td>\n",
       "      <td>3.562500</td>\n",
       "      <td>3.000000</td>\n",
       "    </tr>\n",
       "    <tr>\n",
       "      <th>max</th>\n",
       "      <td>50.810000</td>\n",
       "      <td>10.000000</td>\n",
       "      <td>6.000000</td>\n",
       "    </tr>\n",
       "  </tbody>\n",
       "</table>\n",
       "</div>"
      ],
      "text/plain": [
       "       total_bill         tip  party_size\n",
       "count  244.000000  244.000000  244.000000\n",
       "mean    19.785943    2.998279    2.569672\n",
       "std      8.902412    1.383638    0.951100\n",
       "min      3.070000    1.000000    1.000000\n",
       "25%     13.347500    2.000000    2.000000\n",
       "50%     17.795000    2.900000    2.000000\n",
       "75%     24.127500    3.562500    3.000000\n",
       "max     50.810000   10.000000    6.000000"
      ]
     },
     "execution_count": 6,
     "metadata": {},
     "output_type": "execute_result"
    }
   ],
   "source": [
    "# This code describes some basis statistics about the dataset.\n",
    "\n",
    "# Print heading\n",
    "print(\"Basic 'tips' dataset statistics\")\n",
    "# Print dataset statistics\n",
    "tips.describe()"
   ]
  },
  {
   "cell_type": "code",
   "execution_count": 7,
   "metadata": {},
   "outputs": [
    {
     "name": "stdout",
     "output_type": "stream",
     "text": [
      "\n",
      "Summary of tips dataset statistics\n",
      "___________________________________________________________________________________\n",
      "Number of observations in the dataset: 244\n",
      "total_bill value summary: Max 50.81, Min 3.07, Mean 19.79 and Median 17.80\n",
      "tip value summary:        Max 10.00, Min 1.00, Mean 3.00 and Median 2.90\n",
      "party size summary:       Max 6, Min 1 and Median 2\n",
      "Percentage of smokers paying the bill:      38.1%\n",
      "Percentage of male patrons paying the bill: 64.3%\n",
      "Percentage of non-smoker male patrons paying the bill:   39.8%\n",
      "Percentage of non-smoker female patrons paying the bill: 22.1%\n",
      "Percentage of smoker male patrons paying the bill:       24.6%\n",
      "Percentage of smoker female patrons paying the bill:     13.5%\n",
      "Number of meals served on day of the week: ['Sat', 'Sun', 'Thur', 'Fri'] [87, 76, 62, 19]\n",
      "___________________________________________________________________________________\n"
     ]
    }
   ],
   "source": [
    "# Print summary text\n",
    "print(\"\\nSummary of tips dataset statistics\")\n",
    "print(\"___________________________________________________________________________________\")\n",
    "\n",
    "# Display number of observations\n",
    "# Code adapted from https://pandas.pydata.org/pandas-docs/stable/reference/api/pandas.DataFrame.count.html\n",
    "# and https://docs.python.org/3.1/library/string.html#format-specification-mini-language\n",
    "print(\"Number of observations in the dataset: {0}\".format(tips.total_bill.count()))\n",
    "\n",
    "# Display the min, max, mean and median total_bill rounded to 2 decimal places\n",
    "# Code https://diveintopython3.problemsolving.io/strings.html\n",
    "print(\"total_bill value summary: Max {0:.2f}, Min {1:.2f}, Mean {2:.2f} and Median {3:.2f}\".format(\n",
    "       tips.total_bill.max(), tips.total_bill.min(), tips.total_bill.mean(), tips.total_bill.median()))\n",
    "\n",
    "# Display the min, max, mean and median tip rounded to 2 decimal places\n",
    "print(\"tip value summary:        Max {0:.2f}, Min {1:.2f}, Mean {2:.2f} and Median {3:.2f}\".format(\n",
    "       tips.tip.max(), tips.tip.min(), tips.tip.mean(), tips.tip.median()))\n",
    "\n",
    "# Display the min, max and median party size rounded to 0 decimal places\n",
    "print(\"party size summary:       Max {0:.0f}, Min {1:.0f} and Median {2:.0f}\".format(\n",
    "       tips.party_size.max(), tips.party_size.min(), tips.party_size.median()))\n",
    "\n",
    "# Get sizes of groups of smoker variable == 'Yes' or 'No'\n",
    "# Code adapted from https://erikrood.com/Python_References/count_frequency_value_occurs_dataframe_final.html\n",
    "# and GMIT week 5 lecture notes\n",
    "smoker = tips.groupby('smoker').size()\n",
    "# Display % of smokers (Smoker=Yes / Total entries in smoker column)\n",
    "print(\"Percentage of smokers paying the bill:      {0:.1f}%\".format(\n",
    "       100 * smoker.loc['Yes'] / tips.smoker.count()))\n",
    "\n",
    "# Get sizes of groups of sex variable == 'Male' or 'Female'\n",
    "sex = tips.groupby('sex').size()\n",
    "# Display % of male patrons\n",
    "print(\"Percentage of male patrons paying the bill: {0:.1f}%\".format(\n",
    "       100 * sex.loc['Male'] / tips.sex.count()))\n",
    "\n",
    "# Get sizes of groups of non-smoker sex variable == 'Male' or 'Female'\n",
    "sex_non_smoker = ((tips.loc[tips.smoker == \"No\"]).groupby(\"sex\")).size()\n",
    "# Display % non smoking male patrons\n",
    "print(\"Percentage of non-smoker male patrons paying the bill:   {0:.1f}%\".format(\n",
    "       100 * sex_non_smoker[\"Male\"] / tips.sex.count()))\n",
    "# Display % non smoking female patrons\n",
    "print(\"Percentage of non-smoker female patrons paying the bill: {0:.1f}%\".format(\n",
    "       100 * sex_non_smoker[\"Female\"] / tips.sex.count()))\n",
    "\n",
    "# Get sizes of groups of non-smoker sex variable == 'Male' or 'Female'\n",
    "sex_smoker = ((tips.loc[tips.smoker == \"Yes\"]).groupby(\"sex\")).size()\n",
    "# Display % non smoking male patrons\n",
    "print(\"Percentage of smoker male patrons paying the bill:       {0:.1f}%\".format(\n",
    "       100 * sex_smoker[\"Male\"] / tips.sex.count()))\n",
    "# Display % non smoking female patrons\n",
    "print(\"Percentage of smoker female patrons paying the bill:     {0:.1f}%\".format(\n",
    "       100 * sex_smoker[\"Female\"] / tips.sex.count()))\n",
    "\n",
    "# Count the number of unique day values\n",
    "# Code adapted from https://www.youtube.com/watch?v=_T8LGqJtuGc\n",
    "days_of_week = tips.day.value_counts()\n",
    "# Display unique values of days\n",
    "print(\"Number of meals served on day of the week:\", list(days_of_week.index),\n",
    "      list(days_of_week.values))\n",
    "print(\"___________________________________________________________________________________\")"
   ]
  },
  {
   "cell_type": "markdown",
   "metadata": {},
   "source": [
    "These basic statistics for the 'tips' dataset show that the 244 observations were recorded on only 4 days of the week. The fact that these 4 days are approaching or during the weekend, suggests that either the waiter/waitress taking the observations worked only 4 nights per week, the restaurant may be closed Monday to Wednesday or only four consecutive days were included in the observations. Saturday is the day with the most meals served. The amount of meals served on Friday is much lower than the other three days.  The majority of the bill paying patrons are non-smoking males."
   ]
  },
  {
   "cell_type": "markdown",
   "metadata": {},
   "source": [
    "\n",
    "### <font color='blue'>Regression of primary data</font>\n",
    "The two most notable variables in this dataset are the **'total bill'** and the **'tip'** received with the bill. Plotting of the the data points distribution can identify various patterns in the data."
   ]
  },
  {
   "cell_type": "code",
   "execution_count": 8,
   "metadata": {},
   "outputs": [
    {
     "data": {
      "image/png": "[encoded data removed]",
      "text/plain": [
       "<Figure size 504x504 with 3 Axes>"
      ]
     },
     "metadata": {
      "needs_background": "light"
     },
     "output_type": "display_data"
    }
   ],
   "source": [
    "# Compare distribution of total bill and tips\n",
    "# Code adapted from https://seaborn.pydata.org/tutorial/distributions.html#plotting-univariate-distributions \n",
    "# and https://seaborn.pydata.org/generated/seaborn.jointplot.html#seaborn.jointplot\n",
    "plot = sns.jointplot(x=\"total_bill\", y=\"tip\", kind=\"reg\", height=7, data=tips)"
   ]
  },
  {
   "cell_type": "markdown",
   "metadata": {},
   "source": [
    "The plot above shows a general trend that the tip received is directly proportional to the amount of the total bill.\n",
    "\n",
    "#### <font color='blue'>Distribution of tip and total_bill percentage</font>\n",
    "Every bill in this dataset has a tip associated with it. There is a high probability that this dataset originates in the USA, as tipping in the USA at restaurants is expected and is considered part of the serving staffs wages in many US states. In other countries tipping is less common.  The generally accepted minimum tip in USA is recommended to be 15% of the total bill<font color='blue'>[5]</font>. Better service is often rewarded with higher tip rates."
   ]
  },
  {
   "cell_type": "code",
   "execution_count": 9,
   "metadata": {},
   "outputs": [
    {
     "name": "stdout",
     "output_type": "stream",
     "text": [
      "Tip percentage summary: Max 71%, Min 3%, mean 16% and median 15%.\n"
     ]
    },
    {
     "data": {
      "image/png": "[encoded data removed]",
      "text/plain": [
       "<Figure size 432x288 with 1 Axes>"
      ]
     },
     "metadata": {
      "needs_background": "light"
     },
     "output_type": "display_data"
    }
   ],
   "source": [
    "# The following code reviews the tip percentage compared to the total_bill\n",
    "# to explore if this 15% or higher tip rate is apparent in the tips dataset.\n",
    "\n",
    "# Add new column to dataframe and calculate tip percentages\n",
    "# Code adapted from https://stackoverflow.com/a/46570641\n",
    "# define a function for the new column\n",
    "fn = lambda row: int(100 * row.tip / row.total_bill) \n",
    "# get column data with an index\n",
    "col = tips.apply(fn, axis=1)\n",
    "# assign values to column 'tip_percentage'\n",
    "tips = tips.assign(tip_percentage=col.values) \n",
    "\n",
    "# Display the min, max, mean and median tip %\n",
    "print(\"Tip percentage summary: Max {0:.0f}%, Min {1:.0f}%, mean {2:.0f}% and median {3:.0f}%.\".format(\n",
    "       tips.tip_percentage.max(), tips.tip_percentage.min(), tips.tip_percentage.mean(), tips.tip_percentage.median()))\n",
    "\n",
    "# Plot distribution of tip percentages\n",
    "# Code adapted from http://seaborn.pydata.org/generated/seaborn.distplot.html\n",
    "plot = sns.distplot(tips.tip_percentage)"
   ]
  },
  {
   "cell_type": "markdown",
   "metadata": {},
   "source": [
    "The above statistics and distribution plot of the tip percentage show that is mean tip is 16% and median tip percentage is indeed 15%. The majority of the tips lie within the 5% to 25% range with a few outliers high and low tip percentage rates.\n",
    "\n",
    "#### <font color='blue'>Review of combined payment</font>\n",
    "A general look at the various amounts for total_bill and tip show that the sum of the two values appear to regularly add up to a whole number. This suggests that the total_bill variable does not include the amount of tip variable."
   ]
  },
  {
   "cell_type": "code",
   "execution_count": 10,
   "metadata": {},
   "outputs": [
    {
     "name": "stdout",
     "output_type": "stream",
     "text": [
      "The percentage of total_bill resulting in a whole number is 2%.\n",
      "The percentage of sum payments resulting in a whole number is 25%.\n"
     ]
    }
   ],
   "source": [
    "# The following code looks at how often the total_bill and\n",
    "# sum of the two values added to a whole number.\n",
    "\n",
    "# count whole sum values for total_bill\n",
    "# temp counter\n",
    "counter = 0\n",
    "# Iterate through the index rows in the dataframe tips\n",
    "# Code adapted from https://stackoverflow.com/a/16476974\n",
    "for index, row in tips.iterrows():\n",
    "    # check if the total_bill is a whole number\n",
    "    if (row['total_bill'] % 1.0 == 0.0):\n",
    "        # If sum == whole number add 1 to the counter\n",
    "        counter += 1\n",
    "# print the % of whole number sum_payments \n",
    "# counted_total_bill=whole number / Number_of_bills\n",
    "print(\"The percentage of total_bill resulting in a whole number is {0:.0f}%.\".format(\n",
    "       100 * counter / tips.tip_percentage.count()))\n",
    "\n",
    "# Add new column to dataframe and calculate sum of total_bill and tip\n",
    "# Code adapted from\n",
    "# \"Python for Data Analysis\" by Wes McKinney 2nd edition (2018) - Chapter 9\n",
    "tips['sum_payment'] = tips['total_bill'] + tips['tip']\n",
    "\n",
    "# count whole sum values for sum_payment\n",
    "# temp counter\n",
    "counter = 0\n",
    "# Iterate through the index rows in the dataframe tips\n",
    "# Code adapted from https://stackoverflow.com/a/16476974\n",
    "for index, row in tips.iterrows():\n",
    "    # check if the sum_payment is a whole number\n",
    "    if (row['sum_payment'] % 1.0 == 0.0):\n",
    "        # If sum == whole number add 1 to the counter\n",
    "        counter += 1\n",
    "# print the % of whole number sum_payments \n",
    "# counted_sum=whole number / Number_of_bills\n",
    "print(\"The percentage of sum payments resulting in a whole number is {0:.0f}%.\".format(\n",
    "       100 * counter / tips.tip_percentage.count()))"
   ]
  },
  {
   "cell_type": "markdown",
   "metadata": {},
   "source": [
    "The above calculation shows that only about a quarter of the sum of total_bill and tip are rounded up to a whole number by the patron paying the bill. As such this is not a common occurrence, but it does highlight that the tip amount does not appear to be included in the total_bill amount as only 2% of the total_bill result in a whole number amount. The 15% tip rate appears to be a better guideline for the amount of tip received.\n",
    "\n",
    "### <font color='blue'>Analysis of the Dataset</font>\n",
    "\n",
    "#### <font color='blue'>Distribution of data for smokers</font>\n",
    "The following plots give the distribution of data points splitting smokers from non-smokers."
   ]
  },
  {
   "cell_type": "code",
   "execution_count": 11,
   "metadata": {},
   "outputs": [
    {
     "data": {
      "image/png": "[encoded data removed]",
      "text/plain": [
       "<Figure size 792.625x360 with 2 Axes>"
      ]
     },
     "metadata": {
      "needs_background": "light"
     },
     "output_type": "display_data"
    }
   ],
   "source": [
    "# Display relative plot of bill payed by either sex and if they were a smoker\n",
    "# Code adapted from https://seaborn.pydata.org/introduction.html and\n",
    "# https://seaborn.pydata.org/generated/seaborn.relplot.html\n",
    "plot = sns.relplot(x=\"total_bill\", y=\"tip\", col=\"smoker\",\n",
    "            style=\"sex\", hue=\"sex\", data=tips);"
   ]
  },
  {
   "cell_type": "markdown",
   "metadata": {},
   "source": [
    "It is clear from the above non-smokers plot, data points for tips received are more clustered proportional to the cost of the total bill. A similar plot of data points appears more scattered for smokers. This variability in tipping amount for smokers may infer that some smokers may choose to spend on smoking rather than tipping. Both of these observations appears to be similar for both male and female patrons paying the bill.\n",
    "\n",
    "However, the party_size variable may be masking some of this review. When the amount of tip received is adjusted for the party_size, the following distribution plots and statistics appear to show that on average smokers tend to give a higher average tip per person than non-smokers."
   ]
  },
  {
   "cell_type": "code",
   "execution_count": 12,
   "metadata": {},
   "outputs": [
    {
     "name": "stdout",
     "output_type": "stream",
     "text": [
      "\n",
      "Tip summary from smokers adjusted for party_size:\n",
      "Max 3.33, Min 0.40, mean 1.30 and median 1.17.\n",
      "\n"
     ]
    },
    {
     "data": {
      "image/png": "[encoded data removed]",
      "text/plain": [
       "<Figure size 432x288 with 1 Axes>"
      ]
     },
     "metadata": {
      "needs_background": "light"
     },
     "output_type": "display_data"
    }
   ],
   "source": [
    "# Temp variable for smoker tip values\n",
    "smoker_tip_party_size=(tips.tip.loc[tips.loc[:,'smoker'] == \"Yes\"]/\n",
    "                       tips.party_size.loc[tips.loc[:,'smoker'] == \"Yes\"])\n",
    "# Display the min, max and mean tip from smokers adjusted for party_size\n",
    "print(\"\"\"\n",
    "Tip summary from smokers adjusted for party_size:\n",
    "Max {0:.2f}, Min {1:.2f}, mean {2:.2f} and median {3:.2f}.\n",
    "\"\"\".format(smoker_tip_party_size.max(),smoker_tip_party_size.min(),\n",
    "           smoker_tip_party_size.mean(),smoker_tip_party_size.median()))\n",
    "\n",
    "# Plot distribution of tips from smokers adjusted for party_size\n",
    "# Code adapted from https://seaborn.pydata.org/generated/seaborn.distplot.html\n",
    "plot = sns.distplot(smoker_tip_party_size,\n",
    "                    axlabel=\"Smoker tip adjusted for Party_Size\")"
   ]
  },
  {
   "cell_type": "code",
   "execution_count": 13,
   "metadata": {},
   "outputs": [
    {
     "name": "stdout",
     "output_type": "stream",
     "text": [
      "\n",
      "Tip summary from non-smokers adjusted for party_size:\n",
      "Max 2.92, Min 0.45, mean 1.16 and median 1.05.\n",
      "\n"
     ]
    },
    {
     "data": {
      "image/png": "[encoded data removed]",
      "text/plain": [
       "<Figure size 432x288 with 1 Axes>"
      ]
     },
     "metadata": {
      "needs_background": "light"
     },
     "output_type": "display_data"
    }
   ],
   "source": [
    "# Temp variable for non-smoker tip values\n",
    "non_smoker_tip_party_size=(tips.tip.loc[tips.loc[:,'smoker'] == \"No\"]/\n",
    "                           tips.party_size.loc[tips.loc[:,'smoker'] == \"No\"])\n",
    "# Display the min, max, mean and median tip from non_smokers adjusted for party_size\n",
    "print(\"\"\"\n",
    "Tip summary from non-smokers adjusted for party_size:\n",
    "Max {0:.2f}, Min {1:.2f}, mean {2:.2f} and median {3:.2f}.\n",
    "\"\"\".format(non_smoker_tip_party_size.max(), non_smoker_tip_party_size.min(),\n",
    "           non_smoker_tip_party_size.mean(), non_smoker_tip_party_size.median()))\n",
    "\n",
    "# Plot distribution of tips from non-smokers adjusted for party_size\n",
    "plot = sns.distplot(non_smoker_tip_party_size, color='g',\n",
    "                    axlabel=\"Non-smoker tip adjusted for Party_Size\")"
   ]
  },
  {
   "cell_type": "markdown",
   "metadata": {},
   "source": [
    "#### <font color='blue'>Review of Party Size effect</font>"
   ]
  },
  {
   "cell_type": "code",
   "execution_count": 14,
   "metadata": {
    "scrolled": true
   },
   "outputs": [
    {
     "name": "stdout",
     "output_type": "stream",
     "text": [
      "Party_size: counts\n"
     ]
    },
    {
     "data": {
      "text/plain": [
       "2    156\n",
       "3     38\n",
       "4     37\n",
       "5      5\n",
       "6      4\n",
       "1      4\n",
       "Name: party_size, dtype: int64"
      ]
     },
     "execution_count": 14,
     "metadata": {},
     "output_type": "execute_result"
    }
   ],
   "source": [
    "# Print party_sise counts Code adapted from\n",
    "# https://stackoverflow.com/questions/35277075/python-pandas-counting-the-occurrences-of-a-specific-value\n",
    "party_size_count = tips.party_size.value_counts()\n",
    "print(\"Party_size: counts\")\n",
    "party_size_count"
   ]
  },
  {
   "cell_type": "markdown",
   "metadata": {},
   "source": [
    "The statistics show that party_size varies between 1 to 6 people per table. The most common party_size observed is 2 people per table. The larger sized party at a table can have an effect of how much total_bill and tip is received at a table.\n",
    "In order to assess the total_bill and tip received effectively, these values should be adjusted to take account of party_size. "
   ]
  },
  {
   "cell_type": "code",
   "execution_count": 15,
   "metadata": {},
   "outputs": [
    {
     "name": "stdout",
     "output_type": "stream",
     "text": [
      "total_bill per person value summary: Max 20.27, Min 2.88, Mean 7.89 and Median 7.25\n",
      "tip value per person summary:        Max 3.33, Min 0.40, Mean 1.21 and Median 1.11\n"
     ]
    },
    {
     "data": {
      "image/png": "[encoded data removed]",
      "text/plain": [
       "<Figure size 504x504 with 3 Axes>"
      ]
     },
     "metadata": {
      "needs_background": "light"
     },
     "output_type": "display_data"
    }
   ],
   "source": [
    "#The following statistics and plot show the relative distribution of total_bill and tip per person.\n",
    "\n",
    "# Display the min, max, mean and median total_bill per person\n",
    "print(\"total_bill per person value summary: Max {0:.2f}, Min {1:.2f}, Mean {2:.2f} and Median {3:.2f}\".format(\n",
    "       (tips.total_bill/tips.party_size).max(), (tips.total_bill/tips.party_size).min(),\n",
    "       (tips.total_bill/tips.party_size).mean(), (tips.total_bill/tips.party_size).median()))\n",
    "\n",
    "# Display the min, max, mean and median tip per person\n",
    "print(\"tip value per person summary:        Max {0:.2f}, Min {1:.2f}, Mean {2:.2f} and Median {3:.2f}\".format(\n",
    "       (tips.tip/tips.party_size).max(), (tips.tip/tips.party_size).min(),\n",
    "       (tips.tip/tips.party_size).mean(), (tips.tip/tips.party_size).median()))\n",
    "\n",
    "# Display plot of total_bill versus tip per person\n",
    "# Code adapted from https://seaborn.pydata.org/generated/seaborn.jointplot.html\n",
    "plot = sns.jointplot(x=tips.total_bill/tips.party_size,\n",
    "                     y=tips.tip/tips.party_size,\n",
    "                     kind=\"reg\", height=7, color=\"g\").set_axis_labels(\n",
    "                                \"total_bill per person\", \"tip per person\")"
   ]
  },
  {
   "cell_type": "markdown",
   "metadata": {},
   "source": [
    "A noticeable pattern that can be observed from the above plot is the frequency of tips per person with values of approximately **0.75, 1.00 and 1.50 dollars** as can be seen be the clustered lines of point data along these tip value. As indicated by histogram bar on the vertical axis, the most frequent tip appears to be approximately **1.00 dollar per person**. This may be a simpler method for patrons to determine how much to tip rather than having the calculate 15% of the bill.\n",
    "\n",
    "#### <font color='blue'>Comparison of daily statistics</font>\n",
    "The distribution of meal times are indicated in the following plots."
   ]
  },
  {
   "cell_type": "code",
   "execution_count": 16,
   "metadata": {},
   "outputs": [
    {
     "data": {
      "image/png": "[encoded data removed]",
      "text/plain": [
       "<Figure size 778.875x360 with 2 Axes>"
      ]
     },
     "metadata": {
      "needs_background": "light"
     },
     "output_type": "display_data"
    }
   ],
   "source": [
    "# Display relative plot of mealtime compared to days of the week\n",
    "plot = sns.relplot(x=\"total_bill\", y=\"tip\", col=\"time\",\n",
    "                   hue=\"day\", data=tips);"
   ]
  },
  {
   "cell_type": "markdown",
   "metadata": {},
   "source": [
    "The plots above highlight a distinctive trend in the data. Colour coding of the daily meals indicates that the majority of the lunch time meals occur on Thursday with a lower number on Friday both of which are during a normal working week. Dinner time meals at this restaurant appear to occur more frequently approaching or over the weekend Friday to Sunday, which is to be expected as people generally tend to relax and eat out more in the evenings at the weekend."
   ]
  },
  {
   "cell_type": "code",
   "execution_count": 17,
   "metadata": {},
   "outputs": [
    {
     "data": {
      "image/png": "[encoded data removed]",
      "text/plain": [
       "<Figure size 432x288 with 1 Axes>"
      ]
     },
     "metadata": {
      "needs_background": "light"
     },
     "output_type": "display_data"
    }
   ],
   "source": [
    "# Plot graph of daily split of total-bill and divided by meal time\n",
    "# Code adapted from https://seaborn.pydata.org/generated/seaborn.boxplot.html\n",
    "plot = sns.boxplot(x=\"day\", y=\"total_bill\", data=tips, hue=\"time\")"
   ]
  },
  {
   "cell_type": "code",
   "execution_count": 18,
   "metadata": {},
   "outputs": [
    {
     "data": {
      "image/png": "[encoded data removed]",
      "text/plain": [
       "<Figure size 432x288 with 1 Axes>"
      ]
     },
     "metadata": {
      "needs_background": "light"
     },
     "output_type": "display_data"
    }
   ],
   "source": [
    "# Plot graph of daily split of tip\n",
    "# Code adapted from https://seaborn.pydata.org/generated/seaborn.color_palette.html#seaborn.color_palette\n",
    "plot = sns.boxplot(x=\"day\", y=\"tip\", data=tips, palette=\"husl\")"
   ]
  },
  {
   "cell_type": "code",
   "execution_count": 19,
   "metadata": {},
   "outputs": [
    {
     "name": "stdout",
     "output_type": "stream",
     "text": [
      "68 Lunch time meals served on days ['Fri' 'Thur']\n",
      "176 Dinner time meals served on days ['Fri' 'Sat' 'Sun' 'Thur']\n",
      "The following table is the daily sum of total_bill and tip\n"
     ]
    },
    {
     "data": {
      "text/html": [
       "<div>\n",
       "<style scoped>\n",
       "    .dataframe tbody tr th:only-of-type {\n",
       "        vertical-align: middle;\n",
       "    }\n",
       "\n",
       "    .dataframe tbody tr th {\n",
       "        vertical-align: top;\n",
       "    }\n",
       "\n",
       "    .dataframe thead th {\n",
       "        text-align: right;\n",
       "    }\n",
       "</style>\n",
       "<table border=\"1\" class=\"dataframe\">\n",
       "  <thead>\n",
       "    <tr style=\"text-align: right;\">\n",
       "      <th>day</th>\n",
       "      <th>Thur</th>\n",
       "      <th>Fri</th>\n",
       "      <th>Sat</th>\n",
       "      <th>Sun</th>\n",
       "    </tr>\n",
       "  </thead>\n",
       "  <tbody>\n",
       "    <tr>\n",
       "      <th>tip</th>\n",
       "      <td>171.83</td>\n",
       "      <td>51.96</td>\n",
       "      <td>260.4</td>\n",
       "      <td>247.39</td>\n",
       "    </tr>\n",
       "    <tr>\n",
       "      <th>total_bill</th>\n",
       "      <td>1096.33</td>\n",
       "      <td>325.88</td>\n",
       "      <td>1778.4</td>\n",
       "      <td>1627.16</td>\n",
       "    </tr>\n",
       "  </tbody>\n",
       "</table>\n",
       "</div>"
      ],
      "text/plain": [
       "day            Thur     Fri     Sat      Sun\n",
       "tip          171.83   51.96   260.4   247.39\n",
       "total_bill  1096.33  325.88  1778.4  1627.16"
      ]
     },
     "execution_count": 19,
     "metadata": {},
     "output_type": "execute_result"
    }
   ],
   "source": [
    "# Temp variable to select day where Lunch is eating\n",
    "lunch = tips.day.loc[tips.loc[:,'time'] == \"Lunch\"]\n",
    "# Display number of Lunch time meals and which days they are eaen on\n",
    "print(\"{0} Lunch time meals served on days {1}\".format(lunch.count(), np.unique(lunch)))\n",
    "\n",
    "# Temp variable to select day where Dinner is eating\n",
    "dinner = tips.day.loc[tips.loc[:,'time'] == \"Dinner\"]\n",
    "# Display number of Dinner time meals and which days they are eaen on\n",
    "print(\"{0} Dinner time meals served on days {1}\".format(dinner.count(), np.unique(dinner)))\n",
    "\n",
    "# Print daily sums for total_bill and tip\n",
    "# Code adapted from https://www.youtube.com/watch?v=_T8LGqJtuGc\n",
    "# and https://pandas.pydata.org/pandas-docs/stable/reference/api/pandas.pivot_table.html\n",
    "day_paid = tips.pivot_table(['total_bill','tip'], columns='day', aggfunc='sum')\n",
    "# Print the daily sum\n",
    "print(\"The following table is the daily sum of total_bill and tip\")\n",
    "day_paid"
   ]
  },
  {
   "cell_type": "markdown",
   "metadata": {},
   "source": [
    "Plotting the daily split of the meals and above statistics confirms that Lunch time is the main meal on Thursday, there are mixed meal times on Friday and the only meal time on Saturday and Sunday is Dinner time. Saturday is the slightly better day for total tips. Sundays tips are good also, but a few large tips on Saturday push it ahead. Total tips received on Friday is significantly lower compared to the other three days as there are much less meals served on Friday than on the other three days.\n",
    "\n",
    "When scrolling through the dataset, I noticed a pattern of continuous blocks of meal observations on a given day. When researching this phenomenon, I could not find a discussion of such a pattern so I decided to make my own observations. Assuming that the observations were recorded linearly over time, I thought it would interested to see to see if a shift rotation pattern for the waiter/waitress could be extracted from the data."
   ]
  },
  {
   "cell_type": "code",
   "execution_count": 20,
   "metadata": {},
   "outputs": [
    {
     "name": "stdout",
     "output_type": "stream",
     "text": [
      "Blocks of days with number of meals observed\n"
     ]
    },
    {
     "data": {
      "text/html": [
       "<div>\n",
       "<style scoped>\n",
       "    .dataframe tbody tr th:only-of-type {\n",
       "        vertical-align: middle;\n",
       "    }\n",
       "\n",
       "    .dataframe tbody tr th {\n",
       "        vertical-align: top;\n",
       "    }\n",
       "\n",
       "    .dataframe thead th {\n",
       "        text-align: right;\n",
       "    }\n",
       "</style>\n",
       "<table border=\"1\" class=\"dataframe\">\n",
       "  <thead>\n",
       "    <tr style=\"text-align: right;\">\n",
       "      <th></th>\n",
       "      <th>day</th>\n",
       "      <th>meals</th>\n",
       "    </tr>\n",
       "  </thead>\n",
       "  <tbody>\n",
       "    <tr>\n",
       "      <th>0</th>\n",
       "      <td>Sun</td>\n",
       "      <td>20</td>\n",
       "    </tr>\n",
       "    <tr>\n",
       "      <th>1</th>\n",
       "      <td>Sat</td>\n",
       "      <td>22</td>\n",
       "    </tr>\n",
       "    <tr>\n",
       "      <th>2</th>\n",
       "      <td>Sun</td>\n",
       "      <td>15</td>\n",
       "    </tr>\n",
       "    <tr>\n",
       "      <th>3</th>\n",
       "      <td>Sat</td>\n",
       "      <td>21</td>\n",
       "    </tr>\n",
       "    <tr>\n",
       "      <th>4</th>\n",
       "      <td>Thur</td>\n",
       "      <td>13</td>\n",
       "    </tr>\n",
       "    <tr>\n",
       "      <th>5</th>\n",
       "      <td>Fri</td>\n",
       "      <td>12</td>\n",
       "    </tr>\n",
       "    <tr>\n",
       "      <th>6</th>\n",
       "      <td>Sat</td>\n",
       "      <td>10</td>\n",
       "    </tr>\n",
       "    <tr>\n",
       "      <th>7</th>\n",
       "      <td>Sun</td>\n",
       "      <td>5</td>\n",
       "    </tr>\n",
       "    <tr>\n",
       "      <th>8</th>\n",
       "      <td>Thur</td>\n",
       "      <td>33</td>\n",
       "    </tr>\n",
       "    <tr>\n",
       "      <th>9</th>\n",
       "      <td>Sun</td>\n",
       "      <td>18</td>\n",
       "    </tr>\n",
       "    <tr>\n",
       "      <th>10</th>\n",
       "      <td>Sat</td>\n",
       "      <td>4</td>\n",
       "    </tr>\n",
       "    <tr>\n",
       "      <th>11</th>\n",
       "      <td>Sun</td>\n",
       "      <td>19</td>\n",
       "    </tr>\n",
       "    <tr>\n",
       "      <th>12</th>\n",
       "      <td>Thur</td>\n",
       "      <td>15</td>\n",
       "    </tr>\n",
       "    <tr>\n",
       "      <th>13</th>\n",
       "      <td>Sat</td>\n",
       "      <td>14</td>\n",
       "    </tr>\n",
       "    <tr>\n",
       "      <th>14</th>\n",
       "      <td>Fri</td>\n",
       "      <td>7</td>\n",
       "    </tr>\n",
       "    <tr>\n",
       "      <th>15</th>\n",
       "      <td>Sat</td>\n",
       "      <td>16</td>\n",
       "    </tr>\n",
       "    <tr>\n",
       "      <th>16</th>\n",
       "      <td>Thur</td>\n",
       "      <td>1</td>\n",
       "    </tr>\n",
       "  </tbody>\n",
       "</table>\n",
       "</div>"
      ],
      "text/plain": [
       "     day  meals\n",
       "0    Sun     20\n",
       "1    Sat     22\n",
       "2    Sun     15\n",
       "3    Sat     21\n",
       "4   Thur     13\n",
       "5    Fri     12\n",
       "6    Sat     10\n",
       "7    Sun      5\n",
       "8   Thur     33\n",
       "9    Sun     18\n",
       "10   Sat      4\n",
       "11   Sun     19\n",
       "12  Thur     15\n",
       "13   Sat     14\n",
       "14   Fri      7\n",
       "15   Sat     16\n",
       "16  Thur      1"
      ]
     },
     "execution_count": 20,
     "metadata": {},
     "output_type": "execute_result"
    }
   ],
   "source": [
    "# The following code divides up the dataset into blocks of day\n",
    "# Temp counter\n",
    "counter = 0\n",
    "# Temp placeholder for weekday set to first entry in tips dataset\n",
    "weekday = tips.day[0]\n",
    "# List of day blocks\n",
    "day_list=[]\n",
    "# List of day block counts\n",
    "day_count_list=[]\n",
    "# Print Title\n",
    "print(\"Blocks of days with number of meals observed\")\n",
    "# Iterate through the index rows in the dataframe 'tips' to check for days of week\n",
    "for index, row in tips.iterrows():\n",
    "    # check if day in current row is not equal to weekday variable\n",
    "    if (row['day'] != weekday):\n",
    "        # Add 1 the previous day to counter\n",
    "        counter += 1\n",
    "        # Display the number of each day block\n",
    "        # Text format adapted from https://pyformat.info/\n",
    "        #print(\"{:2} meals on {:4}\".format(counter, weekday))\n",
    "        # Add previous day block to day list and counter list\n",
    "        day_list.append(weekday)\n",
    "        day_count_list.append(counter)\n",
    "        # Change weekday to current row day\n",
    "        weekday = row['day']\n",
    "        # Reset to counter\n",
    "        counter = 0\n",
    "    # Otherwise the day in current row = weekday variable\n",
    "    else:\n",
    "        # Add 1 to the day counter\n",
    "        counter += 1\n",
    "# For the last row add 1 to the day counter\n",
    "counter += 1\n",
    "# Display the last day block\n",
    "#print(\"{:2} meals on {:4}\".format(counter, weekday))\n",
    "# Add last day block to day list and counter list\n",
    "day_list.append(weekday)\n",
    "day_count_list.append(counter)\n",
    "\n",
    "# Create new tuple joining day_list and day_count_list\n",
    "# Code adapted from https://cmdlinetips.com/2018/01/how-to-create-pandas-dataframe-from-multiple-lists/\n",
    "days_tuple = list(zip(day_list,day_count_list))\n",
    "# Create new Dataframe from joined tuple of day_list and day_count_list\n",
    "days = pd.DataFrame(data=days_tuple, columns=['day','meals'])\n",
    "# Display days dataframe table\n",
    "days"
   ]
  },
  {
   "cell_type": "code",
   "execution_count": 21,
   "metadata": {},
   "outputs": [
    {
     "name": "stdout",
     "output_type": "stream",
     "text": [
      "Summary of observations for blocks of days\n"
     ]
    },
    {
     "data": {
      "text/html": [
       "<div>\n",
       "<style scoped>\n",
       "    .dataframe tbody tr th:only-of-type {\n",
       "        vertical-align: middle;\n",
       "    }\n",
       "\n",
       "    .dataframe tbody tr th {\n",
       "        vertical-align: top;\n",
       "    }\n",
       "\n",
       "    .dataframe thead th {\n",
       "        text-align: right;\n",
       "    }\n",
       "</style>\n",
       "<table border=\"1\" class=\"dataframe\">\n",
       "  <thead>\n",
       "    <tr style=\"text-align: right;\">\n",
       "      <th></th>\n",
       "      <th>meals</th>\n",
       "      <th>Thur_Meals</th>\n",
       "      <th>Fri_Meals</th>\n",
       "      <th>Sat_Meals</th>\n",
       "      <th>Sun_Meals</th>\n",
       "    </tr>\n",
       "  </thead>\n",
       "  <tbody>\n",
       "    <tr>\n",
       "      <th>count</th>\n",
       "      <td>4.000000</td>\n",
       "      <td>4.000000</td>\n",
       "      <td>2.000000</td>\n",
       "      <td>6.00000</td>\n",
       "      <td>5.000000</td>\n",
       "    </tr>\n",
       "    <tr>\n",
       "      <th>mean</th>\n",
       "      <td>15.500000</td>\n",
       "      <td>15.500000</td>\n",
       "      <td>9.500000</td>\n",
       "      <td>14.50000</td>\n",
       "      <td>15.400000</td>\n",
       "    </tr>\n",
       "    <tr>\n",
       "      <th>std</th>\n",
       "      <td>13.203535</td>\n",
       "      <td>13.203535</td>\n",
       "      <td>3.535534</td>\n",
       "      <td>6.80441</td>\n",
       "      <td>6.107373</td>\n",
       "    </tr>\n",
       "    <tr>\n",
       "      <th>min</th>\n",
       "      <td>1.000000</td>\n",
       "      <td>1.000000</td>\n",
       "      <td>7.000000</td>\n",
       "      <td>4.00000</td>\n",
       "      <td>5.000000</td>\n",
       "    </tr>\n",
       "    <tr>\n",
       "      <th>25%</th>\n",
       "      <td>10.000000</td>\n",
       "      <td>10.000000</td>\n",
       "      <td>8.250000</td>\n",
       "      <td>11.00000</td>\n",
       "      <td>15.000000</td>\n",
       "    </tr>\n",
       "    <tr>\n",
       "      <th>50%</th>\n",
       "      <td>14.000000</td>\n",
       "      <td>14.000000</td>\n",
       "      <td>9.500000</td>\n",
       "      <td>15.00000</td>\n",
       "      <td>18.000000</td>\n",
       "    </tr>\n",
       "    <tr>\n",
       "      <th>75%</th>\n",
       "      <td>19.500000</td>\n",
       "      <td>19.500000</td>\n",
       "      <td>10.750000</td>\n",
       "      <td>19.75000</td>\n",
       "      <td>19.000000</td>\n",
       "    </tr>\n",
       "    <tr>\n",
       "      <th>max</th>\n",
       "      <td>33.000000</td>\n",
       "      <td>33.000000</td>\n",
       "      <td>12.000000</td>\n",
       "      <td>22.00000</td>\n",
       "      <td>20.000000</td>\n",
       "    </tr>\n",
       "  </tbody>\n",
       "</table>\n",
       "</div>"
      ],
      "text/plain": [
       "           meals  Thur_Meals  Fri_Meals  Sat_Meals  Sun_Meals\n",
       "count   4.000000    4.000000   2.000000    6.00000   5.000000\n",
       "mean   15.500000   15.500000   9.500000   14.50000  15.400000\n",
       "std    13.203535   13.203535   3.535534    6.80441   6.107373\n",
       "min     1.000000    1.000000   7.000000    4.00000   5.000000\n",
       "25%    10.000000   10.000000   8.250000   11.00000  15.000000\n",
       "50%    14.000000   14.000000   9.500000   15.00000  18.000000\n",
       "75%    19.500000   19.500000  10.750000   19.75000  19.000000\n",
       "max    33.000000   33.000000  12.000000   22.00000  20.000000"
      ]
     },
     "execution_count": 21,
     "metadata": {},
     "output_type": "execute_result"
    }
   ],
   "source": [
    "# This code joins together Dataframe describing for each day block for display\n",
    "\n",
    "# Get descrition of Thur meals\n",
    "Days = days[days['day'] == 'Thur'].describe()\n",
    "\n",
    "# Get descrition of Thur meals\n",
    "Thur = days[days['day'] == 'Thur'].describe()\n",
    "# Add Thur to df for display\n",
    "# Code adapted from https://stackoverflow.com/questions/33497896/how-can-i-add-a-column-from-one-dataframe-to-another-dataframe\n",
    "Days[\"Thur_Meals\"] = Thur[\"meals\"]\n",
    "\n",
    "# Get descrition of Fri meals\n",
    "Fri = days[days['day'] == 'Fri'].describe()\n",
    "# Add Fri to df for display\n",
    "Days[\"Fri_Meals\"] = Fri[\"meals\"]\n",
    "\n",
    "# Get descrition of Sat meals\n",
    "Sat = days[days['day'] == 'Sat'].describe()\n",
    "# Add Sat to df for display\n",
    "Days[\"Sat_Meals\"] = Sat[\"meals\"]\n",
    "\n",
    "# Get descrition of Sun meals\n",
    "Sun = days[days['day'] == 'Sun'].describe()\n",
    "# Add Sun to df for display\n",
    "Days[\"Sun_Meals\"] = Sun[\"meals\"]\n",
    "\n",
    "# Print Title\n",
    "print(\"Summary of observations for blocks of days\")\n",
    "# Display dataframe of meal day blocks\n",
    "Days"
   ]
  },
  {
   "cell_type": "code",
   "execution_count": 22,
   "metadata": {},
   "outputs": [
    {
     "name": "stdout",
     "output_type": "stream",
     "text": [
      "Blocks of days with number of meals served\n"
     ]
    },
    {
     "data": {
      "image/png": "[encoded data removed]",
      "text/plain": [
       "<Figure size 432x288 with 1 Axes>"
      ]
     },
     "metadata": {
      "needs_background": "light"
     },
     "output_type": "display_data"
    }
   ],
   "source": [
    "# Print Title\n",
    "print(\"Blocks of days with number of meals served\")\n",
    "# Plot range of meals per day\n",
    "# Code adapted from https://seaborn.pydata.org/generated/seaborn.boxplot.html#seaborn.boxplot\n",
    "plot = sns.boxplot(x=days.day, y=days.meals)"
   ]
  },
  {
   "cell_type": "markdown",
   "metadata": {},
   "source": [
    "The 'tips' dataset includes 17 continuous blocks of meal observations on a given day. There does not seem to be a regular shift pattern in the day block grouping, so each block may be split over a number of different weeks or may be a single day. The majority of group blocks are on Saturday and Sunday, but Thursday has the lowest and highest number of meal in a given block (1 to 33). On average 15 meals are served by the waiter/waitress in each day block."
   ]
  },
  {
   "cell_type": "markdown",
   "metadata": {},
   "source": [
    "\n",
    "\n",
    "### <font color='blue'>Conclusion</font>\n",
    "My analysis of the 'Tips' dataset recorded at this restaurant have highlighted the following points\n",
    "- Either the waiter/waitress taking the observations worked only Thursday to Sunday, the restaurant may be closed Monday to Wednesday or only four consecutive days were included in the observations\n",
    "- 17 blocks grouping of days are included in the dataset with an average of 15 meals per day block\n",
    "- The main trade on Thursday is Lunch time, mixed on Friday and exclusively Dinner time on Saturday and Sunday\n",
    "- Saturday is best day and Friday is the worst for meal numbers served, tips and total_bill received\n",
    "- The majority of the table bill payers were non-smoking males (39.8%)\n",
    "- The majority of tables have 2 people per table\n",
    "- A guideline for an average tip rate is 15% of total_bill or 1 dollar per person at the table\n",
    "- Per person at a table, smokers on average tend to spend slightly more and tip slightly better than non-smokers"
   ]
  },
  {
   "cell_type": "markdown",
   "metadata": {},
   "source": [
    "### <font color='blue'>References</font>\n",
    "\n",
    "[1] <i>Python</i>\n",
    "- https://www.python.org/3/\n",
    "\n",
    "[2] <i>Tips dataset sex variable</i>\n",
    "- https://rdrr.io/cran/regclass/man/TIPS.html\n",
    "- https://towardsdatascience.com/aggregation-and-grouping-66396f26dd95)\n",
    "- https://dfrieds.com/data-analysis/groupby-python-pandas\n",
    "- \"Statistics and Machine Learning in Python\" r0.3beta, 2019 Edouard Duchesnay, Tommy Löfstedt, Feki Younes\n",
    "\n",
    "[3] <i>Tips dataset total_bill variable</i>\n",
    "- \"Python for Data Analysis\" by Wes McKinney 2nd edition (2018) - Chapter 9\n",
    "- https://rdrr.io/cran/regclass/man/TIPS.html\n",
    "\n",
    "[4] <i>Pandas Dataframe</i>\n",
    "- https://pandas.pydata.org/pandas-docs/stable/reference/api/pandas.DataFrame.size.html\n",
    "\n",
    "[5] <i>Tip and total_bill percentage</i>\n",
    "- https://eu.usatoday.com/story/money/2015/06/14/much-tip-depends/71137254/\n",
    "- https://www.tripadvisor.com/Travel-g191-s606/United-States:Tipping.And.Etiquette.html\n",
    "\n",
    "[6] <i>HTML Formatting</i>\n",
    "- Italic text: https://www.tutorialspoint.com/How-to-make-text-italic-in-HTML\n",
    "- Text colour: https://www.w3schools.com/tags/att_font_color.asp\n",
    "- Justify table: https://stackoverflow.com/a/46022752"
   ]
  }
 ],
 "metadata": {
  "kernelspec": {
   "display_name": "Python 3",
   "language": "python",
   "name": "python3"
  },
  "language_info": {
   "codemirror_mode": {
    "name": "ipython",
    "version": 3
   },
   "file_extension": ".py",
   "mimetype": "text/x-python",
   "name": "python",
   "nbconvert_exporter": "python",
   "pygments_lexer": "ipython3",
   "version": "3.7.3"
  }
 },
 "nbformat": 4,
 "nbformat_minor": 2
}
