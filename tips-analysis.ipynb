{
 "cells": [
  {
   "cell_type": "markdown",
   "metadata": {},
   "source": [
    "# Fundamentals of Data Analysis - Project\n",
    "**Author** Mark Cotter - GMIT\n",
    "**Email** g00376335@gmit.ie\n",
    "**Dates** September 2019 to November 2019\n",
    "**Lecturer** Ian McLoughlin\n",
    "\n",
    "This document is my analysis of the well-known 'tips' dataset. The program run in this jupyter notebook and uses the python programming language to analyse the dataset.\n",
    "\n",
    "### Import python libraries and dataset\n",
    "\n",
    "This code imports python libraries, the 'tips' dataset."
   ]
  },
  {
   "cell_type": "code",
   "execution_count": 1,
   "metadata": {},
   "outputs": [],
   "source": [
    "# import numpy for use of arrays\n",
    "import numpy as np\n",
    "# import pandas to use DataFrames for the dataset\n",
    "import pandas as pd\n",
    "# Import pyplot for plotting\n",
    "import matplotlib.pyplot as plt\n",
    "# import seaborn for ploting and loading tips dataset\n",
    "import seaborn as sns"
   ]
  },
  {
   "cell_type": "markdown",
   "metadata": {},
   "source": [
    "### Initial review of dataset content\n",
    "\n",
    "This code prints a brief summary of the dataset content."
   ]
  },
  {
   "cell_type": "code",
   "execution_count": 2,
   "metadata": {},
   "outputs": [
    {
     "name": "stdout",
     "output_type": "stream",
     "text": [
      "\n",
      "First 5 lines of the 'tips' dataset\n",
      "\n",
      "   total_bill   tip     sex smoker  day    time  size\n",
      "0       16.99  1.01  Female     No  Sun  Dinner     2\n",
      "1       10.34  1.66    Male     No  Sun  Dinner     3\n",
      "2       21.01  3.50    Male     No  Sun  Dinner     3\n",
      "3       23.68  3.31    Male     No  Sun  Dinner     2\n",
      "4       24.59  3.61  Female     No  Sun  Dinner     4\n",
      "\n",
      "Last 5 lines of the 'tips' dataset\n",
      "\n",
      "     total_bill   tip     sex smoker   day    time  size\n",
      "239       29.03  5.92    Male     No   Sat  Dinner     3\n",
      "240       27.18  2.00  Female    Yes   Sat  Dinner     2\n",
      "241       22.67  2.00    Male    Yes   Sat  Dinner     2\n",
      "242       17.82  1.75    Male     No   Sat  Dinner     2\n",
      "243       18.78  3.00  Female     No  Thur  Dinner     2\n"
     ]
    }
   ],
   "source": [
    "#The python seaborn module already includes the 'tips' dataset\n",
    "#Code adapted from https://seaborn.pydata.org/introduction.html?highlight=tips%20dataset\n",
    "tips = sns.load_dataset(\"tips\")\n",
    "\n",
    "# Prints the first 5 lines of the dataset\n",
    "print(\"\\nFirst 5 lines of the 'tips' dataset\\n\")\n",
    "print(tips.head())\n",
    "\n",
    "# Prints the last 5 lines of the dataset\n",
    "print(\"\\nLast 5 lines of the 'tips' dataset\\n\")\n",
    "print(tips.tail())"
   ]
  },
  {
   "cell_type": "markdown",
   "metadata": {},
   "source": [
    "\n",
    "The 'tips' dataset includes 244 observations during which 7 variables were recorded. Based on the names of the variables, it appears that the dataset relates to information recorded at a restaurant over a number of days. (Reference\n",
    "https://dfrieds.com/data-visualizations/bar-plot-python-pandas).\n",
    "Information recorded appears to include the following:\n",
    "- **total_bill**: The total cost of the bill for a meal\n",
    "- **tip**: The tip received by waiting staff\n",
    "- **sex**: The sex of the waiting staff\n",
    "- **smoker**: Weather or not the customer was a smoker\n",
    "- **day**: Day of the week\n",
    "- **time**: Meal time\n",
    "- **size**: The party size that was served\n",
    "\n",
    "### Basic dataset statistics\n",
    "\n",
    "This code describes some basis statastics about the dataset"
   ]
  },
  {
   "cell_type": "code",
   "execution_count": 3,
   "metadata": {},
   "outputs": [
    {
     "name": "stdout",
     "output_type": "stream",
     "text": [
      "Number of observations 244\n",
      "The max, min and mean values for the total_bill are 50.81 , 3.07 and 19.79\n",
      "The max, min and mean values for the tip are 10.0 , 1.0 and 3.0\n",
      "List of days of the week included\n",
      " ['Sun', 'Sat', 'Thur', 'Fri']\n"
     ]
    }
   ],
   "source": [
    "# Display number of observations\n",
    "# Code adapted from https://pandas.pydata.org/pandas-docs/stable/reference/api/pandas.DataFrame.count.html\n",
    "print(\"Number of observations\", tips.total_bill.count())\n",
    "\n",
    "# Display the min, max and mean total_bill rounded to 2 decimal\n",
    "# Code adapted from https://stackoverflow.com/questions/455612/limiting-floats-to-two-decimal-points\n",
    "print(\"The max, min and mean values for the total_bill are\", tips.total_bill.max(),\n",
    "      \",\", tips.total_bill.min(), \"and\", round((tips.total_bill.mean()), 2))\n",
    "\n",
    "# Display the min, max and mean tip rounded to 2 decimal\n",
    "# Code adapted from https://stackoverflow.com/questions/455612/limiting-floats-to-two-decimal-points\n",
    "print(\"The max, min and mean values for the tip are\", tips.tip.max(),\n",
    "      \",\", tips.tip.min(), \"and\", round((tips.tip.mean()), 2))\n",
    "\n",
    "# Display unique values of days\n",
    "# Code adapted from https://chrisalbon.com/python/data_wrangling/pandas_list_unique_values_in_column/\n",
    "print(\"List of days of the week included\\n\", list(tips.day.unique()))"
   ]
  },
  {
   "cell_type": "markdown",
   "metadata": {},
   "source": [
    "The basic statistic for the 'tips' dataset show that observations were only recorded on 4 days of the week. The fact that these 4 days are approaching or during the weekend, suggests that the restaurant may be closed Monday to Wednesday."
   ]
  },
  {
   "cell_type": "code",
   "execution_count": null,
   "metadata": {},
   "outputs": [],
   "source": []
  },
  {
   "cell_type": "code",
   "execution_count": null,
   "metadata": {},
   "outputs": [],
   "source": []
  }
 ],
 "metadata": {
  "kernelspec": {
   "display_name": "Python 3",
   "language": "python",
   "name": "python3"
  },
  "language_info": {
   "codemirror_mode": {
    "name": "ipython",
    "version": 3
   },
   "file_extension": ".py",
   "mimetype": "text/x-python",
   "name": "python",
   "nbconvert_exporter": "python",
   "pygments_lexer": "ipython3",
   "version": "3.7.3"
  }
 },
 "nbformat": 4,
 "nbformat_minor": 2
}
