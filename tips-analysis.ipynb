{
 "cells": [
  {
   "cell_type": "markdown",
   "metadata": {},
   "source": [
    "# <font color='blue'>Fundamentals of Data Analysis - Project</font> \n",
    "- **Course** Higher Diploma in Data Analytics, GMIT, Ireland\n",
    "- **Lecturer** Ian McLoughlin\n",
    "- **Author** Mark Cotter\n",
    "- **Email** g00376335@gmit.ie\n",
    "- **Dates** September 2019 to November 2019\n",
    "\n",
    "This document is my analysis of the well-known 'tips' dataset. The program run in this jupyter notebook and uses the Python<font color='blue'>[1]</font> programming language to analyse the dataset. The tips dataset come preloaded into the seaborn Python module.\n",
    "\n",
    "\n",
    "### <font color='blue'>Project setup</font>"
   ]
  },
  {
   "cell_type": "code",
   "execution_count": null,
   "metadata": {},
   "outputs": [],
   "source": [
    "# This code imports python libraries and the 'tips' dataset.\n",
    "\n",
    "# import numpy for use of arrays\n",
    "import numpy as np\n",
    "# import pandas to use DataFrames for the dataset\n",
    "import pandas as pd\n",
    "# import seaborn for ploting and loading tips dataset\n",
    "import seaborn as sns\n",
    "# import matplotlib pyplot for ploting\n",
    "import matplotlib.pyplot as plt\n",
    "\n",
    "#The python seaborn module already includes the 'tips' dataset\n",
    "#Code adapted from https://seaborn.pydata.org/introduction.html?highlight=tips%20dataset\n",
    "tips = sns.load_dataset(\"tips\")"
   ]
  },
  {
   "cell_type": "markdown",
   "metadata": {},
   "source": [
    "### <font color='blue'>Dataset description</font>\n",
    "\n",
    "#### <font color='blue'>Initial dataset review</font>\n",
    "A basis summary of the dataset content can be viewed by looking at the first few and last few lines in the dataset."
   ]
  },
  {
   "cell_type": "code",
   "execution_count": null,
   "metadata": {},
   "outputs": [],
   "source": [
    "# Print heading\n",
    "print(\"\\nFirst 5 lines of the 'tips' dataset\")\n",
    "# Print first 5 lines of the dataset\n",
    "tips.head()"
   ]
  },
  {
   "cell_type": "code",
   "execution_count": null,
   "metadata": {},
   "outputs": [],
   "source": [
    "# Print heading\n",
    "print(\"\\nLast 5 lines of the 'tips' dataset\")\n",
    "# Print last 5 lines of the dataset\n",
    "tips.tail()"
   ]
  },
  {
   "cell_type": "markdown",
   "metadata": {},
   "source": [
    "The 'tips' dataset includes 244 observations during which 7 variables were recorded. Based on the names of the variables, it appears that the dataset relates to information recorded at a restaurant over a number of days.\n",
    "\n",
    "Research shows that there are varying opinions on what the variable 'sex' represents. A number of sources describe the sex variable as the 'gender of the payer of the bill' and that the observations where taken by one waiter/waitress<font color='blue'>[2]</font>.\n",
    "Another source describes the sex variable as 'gender of server'.\n",
    "The most popular opinion is that the observations are recorded by one waiter/waitress and the variable 'sex' relates to the 'gender of the payer of the bill', which in my view seems reasonable.\n",
    "\n",
    "There is also varying opinions as to weather the amount of the variable 'total_bill' includes or excludes the amount of the variable 'tip'<font color='blue'>[3]</font>. I noted that a number of reviews for the dataset, refer to the variable 'total_bill' as 'bill'. Insofar as the one quarter of the sum of 'total_bill' and 'tip' amounts to whole number, compared to only 2% of total_bill(refer to analysis below), it appears that the total_bill refers to the total menu price of the meals for every person at the table excluding tip.\n",
    "\n",
    "For the purposes of this analysis, the variables observed in the dataset are assumed to represent the following:"
   ]
  },
  {
   "cell_type": "code",
   "execution_count": null,
   "metadata": {},
   "outputs": [],
   "source": [
    "%%html\n",
    "<!--# Justify table to left. Code verbatim from https://stackoverflow.com/a/46022752-->\n",
    "<style> table {float:left} </style>"
   ]
  },
  {
   "cell_type": "markdown",
   "metadata": {},
   "source": [
    "**Variable** | **Description** \n",
    "-: | :-\n",
    "**total_bill** | The total cost of the bill for meals at a table excluding tip\n",
    "**tip** | The tip received by the table waiter/waitress\n",
    "**sex** | The gender of the table bill payer\n",
    "**smoker** | Weather or not the bill payer was a smoker \n",
    "**day** | Day of the week \n",
    "**time** | Meal time \n",
    "**size** | The party size that was served"
   ]
  },
  {
   "cell_type": "markdown",
   "metadata": {},
   "source": [
    "Note that insofar as the word 'size' is a python keyword that returns the number of elements in a pandas dataframe<font color='blue'>[4]</font>, I have opted to change this variable name to 'party_size' to simplify my assessment of the dataset."
   ]
  },
  {
   "cell_type": "code",
   "execution_count": null,
   "metadata": {},
   "outputs": [],
   "source": [
    "# Change Dataframe column header label 'size' to 'party_size'\n",
    "# Code adapted from https://stackoverflow.com/questions/11346283/renaming-columns-in-pandas\n",
    "tips.rename(columns={'size': 'party_size'}, inplace=True)"
   ]
  },
  {
   "cell_type": "markdown",
   "metadata": {},
   "source": [
    "#### <font color='blue'>Basic dataset statistics</font>"
   ]
  },
  {
   "cell_type": "code",
   "execution_count": null,
   "metadata": {},
   "outputs": [],
   "source": [
    "# This code describes some basis statistics about the dataset.\n",
    "\n",
    "# Print heading\n",
    "print(\"Basic 'tips' dataset statistics\")\n",
    "# Print dataset statistics\n",
    "tips.describe()"
   ]
  },
  {
   "cell_type": "code",
   "execution_count": null,
   "metadata": {},
   "outputs": [],
   "source": [
    "# Print Title\n",
    "print(\"Breakdown of daily meal counts\")\n",
    "# Display daily breakdown of meal times\n",
    "# Code adapted from https://dfrieds.com/data-analysis/crosstabs-python-pandas\n",
    "pd.crosstab(index=tips['day'], columns=tips['time'], margins=True)"
   ]
  },
  {
   "cell_type": "code",
   "execution_count": null,
   "metadata": {},
   "outputs": [],
   "source": [
    "# Print heading\n",
    "print(\"Percentage of Male/Female patrons who are Smokers/Non-Smokers\")\n",
    "#Display counts of occurance as percentages of total # of observations\n",
    "# Code adapted from https://stackoverflow.com/a/26050459 and\n",
    "# https://dfrieds.com/data-analysis/crosstabs-python-pandas\n",
    "pd.crosstab(index=tips['smoker'], columns=tips['sex'], margins=True).rename(\n",
    "    columns={\"Male\": \"%_Male\", \"Female\": \"%_Female\"}).apply(\n",
    "    lambda row: np.round(100*row/len(tips),1), axis=1)"
   ]
  },
  {
   "cell_type": "markdown",
   "metadata": {},
   "source": [
    "These basic statistics for the 'tips' dataset show that the 244 observations were recorded on only 4 days of the week. The fact that these 4 days are approaching or during the weekend, suggests that either the waiter/waitress taking the observations worked only 4 nights per week, the restaurant may be closed Monday to Wednesday or only four consecutive days were included in the observations. Saturday is the day with the most meals served. The amount of meals served on Friday is much lower than the other three days. The majority of the bill paying patrons are non-smoking males. The average/mean total_bill and tip are \\\\$19.79 and \\\\$3.00 respectively.\n",
    "\n",
    "#### <font color='blue'>Comparison of numerical variables</font>"
   ]
  },
  {
   "cell_type": "code",
   "execution_count": null,
   "metadata": {},
   "outputs": [],
   "source": [
    "# Plot multiplot of numerical data\n",
    "# Code adpated from https://seaborn.pydata.org/generated/seaborn.pairplot.html\n",
    "plot = sns.pairplot(tips, height=3, hue=\"sex\")\n",
    "# Add Title adapted from https://stackoverflow.com/a/52096280\n",
    "plt.subplots_adjust(top=0.95)\n",
    "plt.suptitle(\"Comparison of numerical values\", fontsize = 16)\n",
    "plt.show()"
   ]
  },
  {
   "cell_type": "markdown",
   "metadata": {},
   "source": [
    "### <font color='blue'>Regression of primary data</font>\n",
    "\n",
    "The two most notable variables in this dataset are the amounts of **'total_bill'** and **'tip'** paid with the bill. Plotting of the the data points distribution can identify various patterns in the data."
   ]
  },
  {
   "cell_type": "code",
   "execution_count": null,
   "metadata": {},
   "outputs": [],
   "source": [
    "# Compare distribution of total bill and tips\n",
    "# Code adapted from https://seaborn.pydata.org/tutorial/distributions.html#plotting-univariate-distributions \n",
    "# and https://seaborn.pydata.org/generated/seaborn.jointplot.html#seaborn.jointplot\n",
    "plot = sns.jointplot(x=\"total_bill\", y=\"tip\", kind=\"reg\", height=8, data=tips)\n",
    "\n",
    "# Add Title adapted from https://stackoverflow.com/a/52096280\n",
    "plt.subplots_adjust(top=0.95)\n",
    "plt.suptitle(\"Distribution of total_bill and tips\", fontsize = 16)\n",
    "# Display plot\n",
    "plt.show()"
   ]
  },
  {
   "cell_type": "markdown",
   "metadata": {},
   "source": [
    "The plot above shows a general trend that the tip received is directly proportional to the amount of the total bill.\n",
    "\n",
    "#### <font color='blue'>Distribution of tip and total_bill percentage</font>\n",
    "Every bill in this dataset has a tip associated with it. There is a high probability that this dataset originates in the USA, as tipping in the USA at restaurants is expected and is considered part of the serving staffs wages in many US states<font color='blue'>[5]</font>. In other countries tipping is less common.  The generally accepted minimum tip in USA is recommended to be 15% of the total bill. Better service is often rewarded with higher tip rates."
   ]
  },
  {
   "cell_type": "code",
   "execution_count": null,
   "metadata": {
    "scrolled": false
   },
   "outputs": [],
   "source": [
    "# The following code reviews the tip percentage compared to the total_bill\n",
    "# to explore if this 15% or higher tip rate is apparent in the tips dataset.\n",
    "\n",
    "# Calculate tip percentage of total_bill. Code adapted from\n",
    "# https://stackoverflow.com/a/26050459\n",
    "tip_perc = tips.apply(lambda row: np.round(100*row.tip/row.total_bill,0), axis=1)\n",
    "\n",
    "# Display the min, max, mean and median tip %\n",
    "print(\"Tip % (tip/total_bill) summary: Max {:.0f}%, Min {:.0f}%, Mean {:.0f}% & Median {:.0f}%.\".format(\n",
    "       tip_perc.max(), tip_perc.min(), tip_perc.mean(), tip_perc.median()))\n",
    "\n",
    "# Set figure size Code adapted from\n",
    "# https://www.drawingfromdata.com/setting-figure-size-using-seaborn-and-matplotlib\n",
    "plt.figure(figsize=(10,7))\n",
    "# Plot distribution of tip percentages\n",
    "# Code adapted from http://seaborn.pydata.org/generated/seaborn.distplot.html\n",
    "plot = sns.distplot(tip_perc, axlabel=\"Tip %\")\n",
    "# Add Title adapted from https://stackoverflow.com/a/52096280\n",
    "plt.suptitle(\"Distribution of tip %\", fontsize = 16)\n",
    "plt.show()"
   ]
  },
  {
   "cell_type": "markdown",
   "metadata": {},
   "source": [
    "The above statistics and distribution plot of the tip percentage show that is mean and median tips are 16%, which is slightly higher that the 15% estimate. The majority of the tips lie within the 5% to 25% range with a few outliers high and low tip percentage rates.\n",
    "\n",
    "#### <font color='blue'>Review of combined payment</font>\n",
    "A general look at the various amounts for total_bill and tip show that the sum of the two values appear to regularly add up to a whole number. Many patrons prefer to use the tip amount to round the sum of bill and tip to whole number to avoid receiving coins in change<font color='blue'>[2]</font>. This would suggests that the total_bill variable does not include the amount of tip variable."
   ]
  },
  {
   "cell_type": "code",
   "execution_count": null,
   "metadata": {},
   "outputs": [],
   "source": [
    "# The following code looks at how often the total_bill and\n",
    "# sum of the two values added to a whole number.\n",
    "\n",
    "# count whole sum values for total_bill\n",
    "# temp counter\n",
    "counter = 0\n",
    "# Iterate through the index rows in the dataframe tips\n",
    "# Code adapted from https://stackoverflow.com/a/16476974\n",
    "for index, row in tips.iterrows():\n",
    "    # check if the total_bill is a whole number\n",
    "    if (row['total_bill'] % 1.0 == 0.0):\n",
    "        # If sum == whole number add 1 to the counter\n",
    "        counter += 1\n",
    "# print the % of whole number sum_payments \n",
    "# (counted_total_bill=whole number / Number_of_rows)\n",
    "print(\"Total_bill is a whole number for {:.0f}% of the 'tips' dataset.\".format(\n",
    "       100*counter/len(tips)))\n",
    "\n",
    "# count whole sum values for sum_payment\n",
    "# temp counter\n",
    "counter = 0\n",
    "# Iterate through the index rows in the dataframe tips\n",
    "# Code adapted from https://stackoverflow.com/a/16476974\n",
    "for index, row in tips.iterrows():\n",
    "    # check if the sum_payment is a whole number Code adapted from \n",
    "    # \"Python for Data Analysis\" by Wes McKinney 2nd edition (2018) - Chapter 9\n",
    "    if ((row['total_bill']+row['tip']) % 1.0 == 0.0):\n",
    "        # If sum == whole number add 1 to the counter\n",
    "        counter += 1\n",
    "# print the % of whole number sum_payments \n",
    "# (counted_sum=whole number / Number_of_rows)\n",
    "print(\"Sum of total_bill is a whole number for {:.0f}% of the 'tips' dataset\".format(\n",
    "       100*counter/len(tips)))"
   ]
  },
  {
   "cell_type": "markdown",
   "metadata": {},
   "source": [
    "The above calculation shows that a quarter of the sum of total_bill and tip are rounded up to a whole number by the patron paying the bill. As such this is not a common occurrence, but it does highlight that the tip amount does not appear to be included in the total_bill amount, as only 2% of the total_bill are whole number amounts. The 15% tip rate appears to be a better guideline for the amount of tip received.\n",
    "\n",
    "### <font color='blue'>Analysis of the Dataset</font>\n",
    "\n",
    "#### <font color='blue'>Distribution of data for smokers</font>\n",
    "The following plots give the distribution of data points splitting smokers from non-smokers."
   ]
  },
  {
   "cell_type": "code",
   "execution_count": null,
   "metadata": {},
   "outputs": [],
   "source": [
    "# Display relative plot of bill payed by either sex and if they were a smoker\n",
    "# Code adapted from https://seaborn.pydata.org/introduction.html and\n",
    "# https://seaborn.pydata.org/generated/seaborn.relplot.html\n",
    "plot = sns.relplot(x=\"total_bill\", y=\"tip\", col=\"smoker\",\n",
    "            style=\"sex\", hue=\"sex\", data=tips);\n",
    "\n",
    "# Add Title adapted from https://stackoverflow.com/a/52096280\n",
    "plt.subplots_adjust(top=0.9)\n",
    "plt.suptitle(\"Comparison of Smoker and Non-Smoker\", fontsize = 16)\n",
    "plt.show()"
   ]
  },
  {
   "cell_type": "markdown",
   "metadata": {},
   "source": [
    "It is clear from the above non-smokers plot, data points for tips received are more clustered proportional to the cost of the total bill. A similar plot of data points appears more scattered for smokers. This variability in tipping amount for smokers may infer that some smokers may choose to spend on smoking rather than tipping. Both of these observations appears to be similar for both male and female patrons paying the bill.\n",
    "\n",
    "However, the party_size variable may be masking some of this review. When the amount of tip received is adjusted for the party_size, the following distribution plots and statistics appear to show that on average smokers tend to give a higher average tip per person than non-smokers."
   ]
  },
  {
   "cell_type": "code",
   "execution_count": null,
   "metadata": {},
   "outputs": [],
   "source": [
    "# Temp variable for smoker tip values\n",
    "smoker_tip_party_size=(tips.tip.loc[tips.loc[:,'smoker'] == \"Yes\"]/\n",
    "                       tips.party_size.loc[tips.loc[:,'smoker'] == \"Yes\"])\n",
    "# Display the min, max and mean tip from smokers adjusted for party_size\n",
    "print(\"\"\"\n",
    "Tip summary from smokers adjusted for party_size:\n",
    "Max {:.2f}, Min {:.2f}, Mean {:.2f} and Median {:.2f}.\n",
    "\"\"\".format(smoker_tip_party_size.max(),smoker_tip_party_size.min(),\n",
    "           smoker_tip_party_size.mean(),smoker_tip_party_size.median()))\n",
    "\n",
    "# Set figure size Code adapted from\n",
    "# https://www.drawingfromdata.com/setting-figure-size-using-seaborn-and-matplotlib\n",
    "plt.figure(figsize=(10,7))\n",
    "# Plot distribution of tips from smokers adjusted for party_size\n",
    "# Code adapted from https://seaborn.pydata.org/generated/seaborn.distplot.html\n",
    "plot = sns.distplot(smoker_tip_party_size,\n",
    "                    axlabel=\"Smoker tip adjusted for Party_Size\")\n",
    "\n",
    "# Add Title adapted from https://stackoverflow.com/a/52096280\n",
    "plt.suptitle(\"Distritubtion of Smoker tip adjusted for Party_size\", fontsize = 16)\n",
    "plt.show()"
   ]
  },
  {
   "cell_type": "code",
   "execution_count": null,
   "metadata": {},
   "outputs": [],
   "source": [
    "# Temp variable for non-smoker tip values\n",
    "non_smoker_tip_party_size=(tips.tip.loc[tips.loc[:,'smoker'] == \"No\"]/\n",
    "                           tips.party_size.loc[tips.loc[:,'smoker'] == \"No\"])\n",
    "# Display the min, max, mean and median tip from non_smokers adjusted for party_size\n",
    "print(\"\"\"\n",
    "Tip summary from non-smokers adjusted for party_size:\n",
    "Max {:.2f}, Min {:.2f}, Mean {:.2f} and Median {:.2f}.\n",
    "\"\"\".format(non_smoker_tip_party_size.max(), non_smoker_tip_party_size.min(),\n",
    "           non_smoker_tip_party_size.mean(), non_smoker_tip_party_size.median()))\n",
    "\n",
    "# Set figure size Code adapted from\n",
    "# https://www.drawingfromdata.com/setting-figure-size-using-seaborn-and-matplotlib\n",
    "plt.figure(figsize=(10,7))\n",
    "# Plot distribution of tips from non-smokers adjusted for party_size\n",
    "plot = sns.distplot(non_smoker_tip_party_size, color='g',\n",
    "                    axlabel=\"Non-smoker tip adjusted for Party_Size\")\n",
    "\n",
    "# Add Title adapted from https://stackoverflow.com/a/52096280\n",
    "plt.subplots_adjust(top=0.9)\n",
    "plt.suptitle(\"Distritubtion of Non-Smoker tip adjusted for Party_size\", fontsize = 16)\n",
    "plt.show()"
   ]
  },
  {
   "cell_type": "markdown",
   "metadata": {},
   "source": [
    "#### <font color='blue'>Review of Party Size effect</font>\n",
    "\n",
    "A review the basic dataset statistics (noted above) and the party_size statistics (below) indicate that the party_size varies between 1 to 6 people per table and the most common party_size observed is 2 people per table. The larger sized party at a table can have an effect of how much total_bill and tip is received at a table.\n",
    "In order to assess the total_bill and tip received effectively, these values should be adjusted to take account of party_size."
   ]
  },
  {
   "cell_type": "code",
   "execution_count": null,
   "metadata": {},
   "outputs": [],
   "source": [
    "# Print Title\n",
    "print(\"Party_size statistics\")\n",
    "# Print party_size counts on each day\n",
    "pd.crosstab(index=tips['party_size'], columns=tips['day'], margins=True)"
   ]
  },
  {
   "cell_type": "code",
   "execution_count": null,
   "metadata": {
    "scrolled": false
   },
   "outputs": [],
   "source": [
    "# Set figure size Code adapted from\n",
    "# https://www.drawingfromdata.com/setting-figure-size-using-seaborn-and-matplotlib\n",
    "plt.figure(figsize=(10,7))\n",
    "\n",
    "# Plot party_size counts on each day. Code adapted from\n",
    "# https://seaborn.pydata.org/generated/seaborn.countplot.html\n",
    "plot = sns.countplot(x=\"party_size\", data=tips, hue=\"day\")\n",
    "\n",
    "# Add Title adapted from https://stackoverflow.com/a/52096280\n",
    "plt.suptitle(\"Party_size counts on each day\", fontsize = 16)\n",
    "plt.show()"
   ]
  },
  {
   "cell_type": "code",
   "execution_count": null,
   "metadata": {},
   "outputs": [],
   "source": [
    "#The following statistics and plots show the relative distribution of total_bill and tip per person.\n",
    "\n",
    "# Calculate tip per person. Code adapted from\n",
    "# https://stackoverflow.com/a/26050459\n",
    "tip_p_p = tips.apply(lambda row: np.round(row.tip/row.party_size,2), axis=1)\n",
    "# Display the min, max, mean and median total_bill per person\n",
    "print(\"\\nTotal_bill per person value summary: Max {:5.2f}, Min {:5.2f}, Mean {:5.2f} and Median {:5.2f}\".format(\n",
    "       tip_p_p.max(), tip_p_p.min(), tip_p_p.mean(), tip_p_p.median()))\n",
    "\n",
    "# Calculate total_bill per person. Code adapted from\n",
    "# https://stackoverflow.com/a/26050459\n",
    "bill_p_p = tips.apply(lambda row: np.round(row.total_bill/row.party_size,2), axis=1)\n",
    "# Display the min, max, mean and median tip per person\n",
    "print(\"Tip value per person summary:        Max {:5.2f}, Min {:5.2f}, Mean {:5.2f} and Median {:5.2f}\".format(\n",
    "       bill_p_p.max(), bill_p_p.min(), bill_p_p.mean(), bill_p_p.median()))\n",
    "\n",
    "# Code adapted from https://seaborn.pydata.org/generated/seaborn.jointplot.html\n",
    "plot = sns.jointplot(x=bill_p_p, y=tip_p_p, kind=\"reg\", height=8, color=\"g\").set_axis_labels(\n",
    "                                \"total_bill per person\", \"tip per person\")\n",
    "\n",
    "# Add Title adapted from https://stackoverflow.com/a/52096280\n",
    "plt.subplots_adjust(top=0.95)\n",
    "plt.suptitle(\"Total_bill versus tip per person\", fontsize = 16)\n",
    "plt.show()"
   ]
  },
  {
   "cell_type": "markdown",
   "metadata": {},
   "source": [
    "A noticeable pattern that can be observed from the above plot is the frequency of tips per person with values of approximately **\\\\$0.75, \\\\$1** and **\\\\$1.50** as can be seen be the clustered lines of point data along these tip value. As indicated by histogram bar on the vertical axis, the most frequent tip appears to be approximately **\\\\$1.00/person**<font color='blue'>[5]</font>. This may be a simpler method for patrons to determine how much to tip rather than having the calculate 15% of the bill.\n",
    "\n",
    "#### <font color='blue'>Comparison of daily statistics</font>\n",
    "\n",
    "The distribution of meal times are indicated in the following plots."
   ]
  },
  {
   "cell_type": "code",
   "execution_count": null,
   "metadata": {
    "scrolled": false
   },
   "outputs": [],
   "source": [
    "# Display relative plot of meal time on each day\n",
    "plot = sns.relplot(x=\"total_bill\", y=\"tip\", col=\"time\", \n",
    "                   hue=\"day\", data=tips);\n",
    "# Add Title adapted from https://stackoverflow.com/a/52096280\n",
    "plt.suptitle(\"Meal time on each day\", fontsize = 16)\n",
    "plt.show()"
   ]
  },
  {
   "cell_type": "markdown",
   "metadata": {},
   "source": [
    "The plots above highlight a distinctive trend in the data. Colour coding of the daily meals indicates that the majority of the lunch time meals occur on Thursday with a lower number on Friday both of which are during a normal working week. Dinner time meals at this restaurant appear to occur more frequently approaching or over the weekend Friday to Sunday, which is to be expected as people generally tend to relax and eat out more in the evenings at the weekend."
   ]
  },
  {
   "cell_type": "code",
   "execution_count": null,
   "metadata": {},
   "outputs": [],
   "source": [
    "# Set figure size Code adapted from\n",
    "# https://www.drawingfromdata.com/setting-figure-size-using-seaborn-and-matplotlib\n",
    "plt.figure(figsize=(10,7))\n",
    "# Plot Daily split of total-bill grouped by meal time\n",
    "# Code adapted from https://seaborn.pydata.org/generated/seaborn.boxplot.html\n",
    "plot = sns.boxplot(x=\"day\", y=\"total_bill\", data=tips, hue=\"time\")\n",
    "# Add Title adapted from https://stackoverflow.com/a/52096280\n",
    "plt.suptitle(\"Daily split of total-bill grouped by meal time\", fontsize = 16)\n",
    "plt.show()"
   ]
  },
  {
   "cell_type": "code",
   "execution_count": null,
   "metadata": {},
   "outputs": [],
   "source": [
    "# Set figure size Code adapted from\n",
    "# https://www.drawingfromdata.com/setting-figure-size-using-seaborn-and-matplotlib\n",
    "plt.figure(figsize=(10,7))\n",
    "# Code adapted from https://seaborn.pydata.org/generated/seaborn.color_palette.html#seaborn.color_palette\n",
    "plot = sns.boxplot(x=\"day\", y=\"tip\", data=tips, palette=\"husl\")\n",
    "# Add Title adapted from https://stackoverflow.com/a/52096280\n",
    "plt.suptitle(\"Daily split of tips\", fontsize = 16)\n",
    "plt.show()"
   ]
  },
  {
   "cell_type": "code",
   "execution_count": null,
   "metadata": {},
   "outputs": [],
   "source": [
    "# Print daily sums for total_bill and tip\n",
    "# Code adapted from https://www.youtube.com/watch?v=_T8LGqJtuGc\n",
    "# and https://pandas.pydata.org/pandas-docs/stable/reference/api/pandas.pivot_table.html\n",
    "day_paid = tips.pivot_table(['total_bill','tip'], columns='day', aggfunc='sum')\n",
    "# Print the daily sum\n",
    "print(\"Daily sum of total_bill and tip\")\n",
    "day_paid"
   ]
  },
  {
   "cell_type": "markdown",
   "metadata": {},
   "source": [
    "Plotting the daily split of the meals and above statistics confirms that Lunch time is the main meal on Thursday, there are mixed meal times on Friday and the only meal time on Saturday and Sunday is Dinner time. Saturday is the slightly better day for total tips. Sundays tips are good also, but a few large tips on Saturday push it ahead. Total tips received on Friday is significantly lower compared to the other three days as there are much less meals served on Friday than on the other three days.\n",
    "\n",
    "When scrolling through the dataset, I noticed a pattern of continuous blocks of meal observations on a given day. When researching this phenomenon, I could not find a discussion of such a pattern so I decided to make my own observations. Assuming that the observations were recorded linearly over time, I thought it would interested to see to see if a shift rotation pattern for the waiter/waitress could be extracted from the data."
   ]
  },
  {
   "cell_type": "code",
   "execution_count": null,
   "metadata": {},
   "outputs": [],
   "source": [
    "# The following code divides up the dataset into blocks of day\n",
    "\n",
    "# Temp counter for meals observed\n",
    "counter = 0\n",
    "# Temp placeholder for weekday, set to first entry in tips dataset\n",
    "weekday = tips.day[0]\n",
    "# List of day blocks\n",
    "day_list=[]\n",
    "# List of meal counts in each block\n",
    "meal_count_list=[]\n",
    "\n",
    "# Iterate through the index rows in the dataframe 'tips' to check for days of week\n",
    "for index, row in tips.iterrows():\n",
    "    # check if day in current row is not equal to weekday variable\n",
    "    if (row['day'] != weekday):\n",
    "        # Add 1 from the previous row to counter\n",
    "        counter += 1\n",
    "        # Add previous row block to day list and meal_count list\n",
    "        day_list.append(weekday)\n",
    "        meal_count_list.append(counter)\n",
    "        # Change weekday to current row day\n",
    "        weekday = row['day']\n",
    "        # Reset meals observed counter to 0\n",
    "        counter = 0\n",
    "    # Otherwise the day in current row = weekday variable\n",
    "    else:\n",
    "        # Add 1 from the previous row to counter\n",
    "        counter += 1\n",
    "# For the last row add 1 to the counter\n",
    "counter += 1\n",
    "# Add last row block to day list and meal_count list\n",
    "day_list.append(weekday)\n",
    "meal_count_list.append(counter)\n",
    "\n",
    "# Create new tuple joining day_list and meal_count_list\n",
    "# Code adapted from https://cmdlinetips.com/2018/01/how-to-create-pandas-dataframe-from-multiple-lists/\n",
    "days_tuple = list(zip(day_list,meal_count_list))\n",
    "# Create new Dataframe from joined tuple of day_list and meal_count_list\n",
    "days = pd.DataFrame(data=days_tuple, columns=['day','meals'])\n",
    "\n",
    "# Print Title\n",
    "print(\"Blocks of days with number of meals observed in each block\")\n",
    "# Display days dataframe table in transposed format Code adpated from\n",
    "# https://pandas.pydata.org/pandas-docs/stable/reference/api/pandas.DataFrame.T.html#pandas.DataFrame.T\n",
    "days.T"
   ]
  },
  {
   "cell_type": "code",
   "execution_count": null,
   "metadata": {},
   "outputs": [],
   "source": [
    "# This code counts minimum number of  weeks in the day blocks\n",
    "# The following assumption have been made\n",
    "#    - One full week is from Thursday to Sunday\n",
    "#    - Each block of day observations relate to one single day and\n",
    "#    - There are no intermediate weeks not worked\n",
    "\n",
    "# Create index list of required week order\n",
    "week = [\"Thur\", \"Fri\", \"Sat\", \"Sun\"]\n",
    "# Placeholder for previous day index number, set to first row index value for the day\n",
    "p_day_index = week.index(days.day[0])\n",
    "# temp week number counter, set to at least 1 week\n",
    "week_count = 1\n",
    "\n",
    "# Check for number of full weeks\n",
    "for index, row in days.iterrows():\n",
    "    # If the previous week index is > current row index\n",
    "    # i.e. current day is earlier in the week index than previous day\n",
    "    if p_day_index > week.index(row['day']):\n",
    "        # Add 1 to the week count\n",
    "        week_count +=1\n",
    "    # Set the previous week index = current row index\n",
    "    p_day_index = week.index(row['day'])\n",
    "#Print the counted number of weeks\n",
    "print(\"The minimum number of weeks observations were taken is {} weeks.\".format(week_count))"
   ]
  },
  {
   "cell_type": "code",
   "execution_count": null,
   "metadata": {},
   "outputs": [],
   "source": [
    "# This code joins together Dataframe describing for each day block for display\n",
    "\n",
    "# Get description of Total meals\n",
    "Days = days.describe()\n",
    "# Change name of column to Total_Meal_Blocks\n",
    "Days.rename(columns={'meals': 'Total_Meal_Blocks'}, inplace=True)\n",
    "\n",
    "# Get description of Thur meals\n",
    "Thur = days[days['day'] == 'Thur'].describe()\n",
    "# Add Thur to df for display\n",
    "# Code adapted from https://stackoverflow.com/questions/33497896/how-can-i-add-a-column-from-one-dataframe-to-another-dataframe\n",
    "Days[\"Thur_Meals\"] = Thur[\"meals\"]\n",
    "\n",
    "# Get description of Fri meals\n",
    "Fri = days[days['day'] == 'Fri'].describe()\n",
    "# Add Fri to df for display\n",
    "Days[\"Fri_Meals\"] = Fri[\"meals\"]\n",
    "\n",
    "# Get description of Sat meals\n",
    "Sat = days[days['day'] == 'Sat'].describe()\n",
    "# Add Sat to df for display\n",
    "Days[\"Sat_Meals\"] = Sat[\"meals\"]\n",
    "\n",
    "# Get description of Sun meals\n",
    "Sun = days[days['day'] == 'Sun'].describe()\n",
    "# Add Sun to df for display\n",
    "Days[\"Sun_Meals\"] = Sun[\"meals\"]\n",
    "\n",
    "# Print Title\n",
    "print(\"Summary of observations for blocks of days\")\n",
    "# Display dataframe of meal day blocks\n",
    "Days"
   ]
  },
  {
   "cell_type": "code",
   "execution_count": null,
   "metadata": {},
   "outputs": [],
   "source": [
    "# Set figure size Code adapted from\n",
    "# https://www.drawingfromdata.com/setting-figure-size-using-seaborn-and-matplotlib\n",
    "plt.figure(figsize=(10,7))\n",
    "# Plot range of meals per day\n",
    "# Code adapted from https://seaborn.pydata.org/generated/seaborn.boxplot.html#seaborn.boxplot\n",
    "plot = sns.boxplot(x=days.day, y=days.meals)\n",
    "# Add Title adapted from https://stackoverflow.com/a/52096280\n",
    "plt.suptitle(\"Blocks of days with range of meals served\", fontsize = 16)\n",
    "plt.show()"
   ]
  },
  {
   "cell_type": "markdown",
   "metadata": {},
   "source": [
    "The 'tips' dataset includes 17 continuous blocks of meal observations on a given day. There does not seem to be a regular shift pattern in the day block grouping, so each block may be split over a number of different weeks or may be a single day. However, given the order of the observations, it highly probable that all of the observations were not recorded on four consecutive days. For a week starting on Thursday and ending on Sunday, there appears to be a least 9 weeks involved in the observations assuming that there was no interim weeks not work and each block of meal observations refers to a single day.\n",
    "\n",
    "The majority of group blocks are on Saturday and Sunday (6 and 5 blocks respectively) suggesting the waiter/waitress worked more often on the weekends. Thursday has both the lowest and highest number of meal observations in a given block (1 to 33). As Thursday observations were mostly lunch time meals, it suggests that the lunch time shifts can be very sporadic. On average approximately 15 meals are served by the waiter/waitress in each day block."
   ]
  },
  {
   "cell_type": "markdown",
   "metadata": {},
   "source": [
    "### <font color='blue'>Conclusion</font>\n",
    "My analysis of the 'Tips' dataset recorded at this restaurant have highlighted the following points\n",
    "- The waiter/waitress taking the observations either worked only on days ranging from Thursday to Sunday or the restaurant may be closed Monday to Wednesday\n",
    "- 17 continuous blocks of meal observations on a given day are included in the dataset with an average of 15 meal observations per day block that appear to span at least a 9 week period\n",
    "- The main trade on Thursday is Lunch time, mixed on Friday and exclusively Dinner time on Saturday and Sunday\n",
    "- Saturday is best day and Friday is the worst day for meal numbers served, tips and total_bill received\n",
    "- The majority of the table bill paying patrons were non-smoking males (39.8%)\n",
    "- The majority of tables have 2 people per table\n",
    "- A guideline for an average tip rate is 15% of total_bill or \\\\$1/person at the table\n",
    "- On average per person at a table smokers, tend to spend slightly more and tip slightly better than non-smokers"
   ]
  },
  {
   "cell_type": "markdown",
   "metadata": {},
   "source": [
    "### <font color='blue'>References</font>\n",
    "\n",
    "[1] <i>Python</i>\n",
    "- https://www.python.org/3/\n",
    "\n",
    "[2] <i>Tips dataset sex variable</i>\n",
    "- https://rdrr.io/cran/regclass/man/TIPS.html\n",
    "- https://towardsdatascience.com/aggregation-and-grouping-66396f26dd95)\n",
    "- https://dfrieds.com/data-analysis/groupby-python-pandas\n",
    "- \"Statistics and Machine Learning in Python\" r0.3beta, 2019 Edouard Duchesnay, Tommy Löfstedt, Feki Younes\n",
    "- https://vincentarelbundock.github.io/Rdatasets/doc/reshape2/tips.html\n",
    "\n",
    "[3] <i>Tips dataset total_bill variable</i>\n",
    "- \"Python for Data Analysis\" by Wes McKinney 2nd edition (2018) - Chapter 9\n",
    "- https://rdrr.io/cran/regclass/man/TIPS.html\n",
    "- https://vincentarelbundock.github.io/Rdatasets/doc/reshape2/tips.html\n",
    "- http://rpubs.com/Lita16/434017\n",
    "- https://books.google.ie/books?id=7zhDDwAAQBAJ&printsec=frontcover&source=gbs_ge_summary_r&cad=0#v=onepage&q&f=false\n",
    "\n",
    "[4] <i>Pandas Dataframe</i>\n",
    "- https://pandas.pydata.org/pandas-docs/stable/reference/api/pandas.DataFrame.size.html\n",
    "\n",
    "[5] <i>Tip and total_bill percentage</i>\n",
    "- https://eu.usatoday.com/story/money/2015/06/14/much-tip-depends/71137254/\n",
    "- https://www.tripadvisor.com/Travel-g191-s606/United-States:Tipping.And.Etiquette.html\n",
    "- https://tableagent.com/article/guide-to-tipping-at-restaurants/\n",
    "- https://aaronparecki.com/2018/07/19/26/\n",
    "\n",
    "[6] <i>HTML Formatting</i>\n",
    "- Italic text: https://www.tutorialspoint.com/How-to-make-text-italic-in-HTML\n",
    "- Text colour: https://www.w3schools.com/tags/att_font_color.asp\n",
    "- Justify table: https://stackoverflow.com/a/46022752"
   ]
  }
 ],
 "metadata": {
  "kernelspec": {
   "display_name": "Python 3",
   "language": "python",
   "name": "python3"
  },
  "language_info": {
   "codemirror_mode": {
    "name": "ipython",
    "version": 3
   },
   "file_extension": ".py",
   "mimetype": "text/x-python",
   "name": "python",
   "nbconvert_exporter": "python",
   "pygments_lexer": "ipython3",
   "version": "3.7.3"
  }
 },
 "nbformat": 4,
 "nbformat_minor": 2
}
